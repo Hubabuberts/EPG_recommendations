{
 "cells": [
  {
   "cell_type": "markdown",
   "metadata": {
    "ExecuteTime": {
     "end_time": "2022-04-25T13:20:57.820162Z",
     "start_time": "2022-04-25T13:20:57.816176Z"
    }
   },
   "source": [
    "# bibliotēkas"
   ]
  },
  {
   "cell_type": "code",
   "execution_count": 58,
   "metadata": {
    "ExecuteTime": {
     "end_time": "2022-05-19T17:50:18.338465Z",
     "start_time": "2022-05-19T17:50:18.318472Z"
    }
   },
   "outputs": [],
   "source": [
    "import pandas as pd\n",
    "pd.set_option('display.max_columns', None)\n",
    "pd.set_option('display.width', None)\n",
    "pd.set_option('display.max_colwidth', None)\n",
    "import numpy as np\n",
    "import scipy.sparse as sparse\n",
    "import itertools\n",
    "import copy\n",
    "import implicit \n",
    "from implicit import evaluation\n",
    "from datetime import datetime\n",
    "\n",
    "\n",
    "def learning_curve(model, train, test, epochs, K=[3,5,10,20]):\n",
    "    \"\"\"\n",
    "    Funkcija, kas pie katrām norādītajām modeļa trenēšanas iterācijām pārbauda modeļa rezultātu uz dotajiem K vienumiem,\n",
    "    progresu saglabājot Pandas temp tabulā eval_metrics. \n",
    "    Funkciju bāze aizgūta no https://www.ethanrosenthal.com/2016/10/19/implicit-mf-part-1/\n",
    "    \"\"\"\n",
    "    prev_epoch = 0\n",
    "    eval_metrics=[]\n",
    "    for epoch in epochs:\n",
    "        print(\"Iterāciju skaits: {}\".format(epoch))\n",
    "        print(datetime.today())\n",
    "        model.iterations = epoch - prev_epoch\n",
    "        if not hasattr(model, 'user_vectors'):\n",
    "            model.fit(train, show_progress=False)\n",
    "        else:\n",
    "            model.fit_partial(train, show_progress=False)\n",
    "        for k in K:\n",
    "            print(\"Testa vērtību skaits: {}\".format(k))\n",
    "            temp_items = evaluation.ranking_metrics_at_k(model, train, test, K=k, show_progress=False)\n",
    "            temp_items[\"epoch\"] = epoch\n",
    "            temp_items[\"K\"] = k\n",
    "            eval_metrics.append(temp_items)\n",
    "        prev_epoch = epoch\n",
    "    return model, eval_metrics\n",
    "\n",
    "def grid_search_learning_curve(base_model, train, test, param_grid,\n",
    "                               epochs=range(2, 40, 2)):\n",
    "    \"\"\"\n",
    "    funkcija, kas iterē caur parametru režģī norādītajām lambda un faktoru vērtībām,\n",
    "    kā arī apkopo rezultātu pandas DF no learning_curve funkcijas rezultātiem. \n",
    "    Funkciju bāze aizgūta no https://www.ethanrosenthal.com/2016/10/19/implicit-mf-part-1/\n",
    "    \"\"\"\n",
    "    curves = pd.DataFrame()\n",
    "    keys, values = zip(*param_grid.items())\n",
    "    for v in itertools.product(*values):\n",
    "        params = dict(zip(keys, v))\n",
    "        this_model = copy.deepcopy(base_model)\n",
    "        print_line = []\n",
    "        for k, v in params.items():\n",
    "            setattr(this_model, k, v)\n",
    "            print_line.append((k, v))\n",
    "\n",
    "        print(' | '.join('{}: {}'.format(k, v) for (k, v) in print_line))\n",
    "        mod, eval_metrics = learning_curve(this_model, train, test,epochs)\n",
    "        temp_table = pd.DataFrame(eval_metrics)\n",
    "        for  (k, v) in print_line:\n",
    "            temp_table[k] = v\n",
    "        curves=curves.append(temp_table)\n",
    "    return curves"
   ]
  },
  {
   "cell_type": "markdown",
   "metadata": {},
   "source": [
    "# Datu ielasīšana un matricu konstruēšana"
   ]
  },
  {
   "cell_type": "code",
   "execution_count": 59,
   "metadata": {
    "ExecuteTime": {
     "end_time": "2022-05-19T17:50:24.819907Z",
     "start_time": "2022-05-19T17:50:18.620624Z"
    }
   },
   "outputs": [],
   "source": [
    "#datu ielāde\n",
    "df = pd.read_csv(r\"\\Train\\user_watched.csv\")\n",
    "df.rename(columns={\"movieid\":\"movieId\",\"userid\":\"userId\"},inplace=True)"
   ]
  },
  {
   "cell_type": "code",
   "execution_count": 60,
   "metadata": {
    "ExecuteTime": {
     "end_time": "2022-05-19T17:50:24.835924Z",
     "start_time": "2022-05-19T17:50:24.821895Z"
    }
   },
   "outputs": [
    {
     "data": {
      "text/html": [
       "<div>\n",
       "<style scoped>\n",
       "    .dataframe tbody tr th:only-of-type {\n",
       "        vertical-align: middle;\n",
       "    }\n",
       "\n",
       "    .dataframe tbody tr th {\n",
       "        vertical-align: top;\n",
       "    }\n",
       "\n",
       "    .dataframe thead th {\n",
       "        text-align: right;\n",
       "    }\n",
       "</style>\n",
       "<table border=\"1\" class=\"dataframe\">\n",
       "  <thead>\n",
       "    <tr style=\"text-align: right;\">\n",
       "      <th></th>\n",
       "      <th>movieId</th>\n",
       "      <th>userId</th>\n",
       "      <th>rating</th>\n",
       "    </tr>\n",
       "  </thead>\n",
       "  <tbody>\n",
       "    <tr>\n",
       "      <th>0</th>\n",
       "      <td>путевка в жизнь</td>\n",
       "      <td>DTVS0352660</td>\n",
       "      <td>1</td>\n",
       "    </tr>\n",
       "    <tr>\n",
       "      <th>1</th>\n",
       "      <td>сказка о потерянном времени</td>\n",
       "      <td>DTVS0196936</td>\n",
       "      <td>1</td>\n",
       "    </tr>\n",
       "    <tr>\n",
       "      <th>2</th>\n",
       "      <td>girl in progress</td>\n",
       "      <td>DTVS0444587</td>\n",
       "      <td>1</td>\n",
       "    </tr>\n",
       "    <tr>\n",
       "      <th>3</th>\n",
       "      <td>stikla pils</td>\n",
       "      <td>DTVS0291378</td>\n",
       "      <td>1</td>\n",
       "    </tr>\n",
       "    <tr>\n",
       "      <th>4</th>\n",
       "      <td>tomasa krauna afera</td>\n",
       "      <td>DTVS0076064</td>\n",
       "      <td>1</td>\n",
       "    </tr>\n",
       "  </tbody>\n",
       "</table>\n",
       "</div>"
      ],
      "text/plain": [
       "                       movieId       userId  rating\n",
       "0              путевка в жизнь  DTVS0352660       1\n",
       "1  сказка о потерянном времени  DTVS0196936       1\n",
       "2             girl in progress  DTVS0444587       1\n",
       "3                  stikla pils  DTVS0291378       1\n",
       "4          tomasa krauna afera  DTVS0076064       1"
      ]
     },
     "execution_count": 60,
     "metadata": {},
     "output_type": "execute_result"
    }
   ],
   "source": [
    "#datu paraugs\n",
    "df.head()"
   ]
  },
  {
   "cell_type": "code",
   "execution_count": 61,
   "metadata": {
    "ExecuteTime": {
     "end_time": "2022-05-19T17:50:26.780950Z",
     "start_time": "2022-05-19T17:50:24.837928Z"
    }
   },
   "outputs": [],
   "source": [
    "#dublikātu nomešana\n",
    "df.drop_duplicates(subset=['movieId', 'userId', 'rating'],inplace=True)"
   ]
  },
  {
   "cell_type": "code",
   "execution_count": 62,
   "metadata": {
    "ExecuteTime": {
     "end_time": "2022-05-19T17:50:28.340947Z",
     "start_time": "2022-05-19T17:50:26.782935Z"
    }
   },
   "outputs": [],
   "source": [
    "#string tipa vērtību transformēšana par skaitliskām vērtībām\n",
    "df['movieId'] = df['movieId'].astype(\"category\")\n",
    "df['movieId'] = df['movieId'].cat.as_ordered()\n",
    "df['userId'] = df['userId'].astype(\"category\")\n",
    "df['userId'] = df['userId'].cat.as_ordered()\n",
    "df['movie_Id'] = df['movieId'].cat.codes\n",
    "df['user_Id'] = df['userId'].cat.codes"
   ]
  },
  {
   "cell_type": "code",
   "execution_count": 63,
   "metadata": {
    "ExecuteTime": {
     "end_time": "2022-05-19T17:50:28.530078Z",
     "start_time": "2022-05-19T17:50:28.342935Z"
    }
   },
   "outputs": [
    {
     "data": {
      "text/plain": [
       "<matplotlib.axes._subplots.AxesSubplot at 0x17708002080>"
      ]
     },
     "execution_count": 63,
     "metadata": {},
     "output_type": "execute_result"
    },
    {
     "data": {
      "image/png": "[encoded data removed]",
      "text/plain": [
       "<Figure size 432x288 with 1 Axes>"
      ]
     },
     "metadata": {},
     "output_type": "display_data"
    }
   ],
   "source": [
    "#Lietotāju interakciju skaita histogramma\n",
    "df['userId'].value_counts().plot(kind = 'hist',bins=30)"
   ]
  },
  {
   "cell_type": "code",
   "execution_count": 64,
   "metadata": {
    "ExecuteTime": {
     "end_time": "2022-05-19T17:50:28.683853Z",
     "start_time": "2022-05-19T17:50:28.532078Z"
    }
   },
   "outputs": [
    {
     "data": {
      "text/plain": [
       "<matplotlib.axes._subplots.AxesSubplot at 0x17792a610b8>"
      ]
     },
     "execution_count": 64,
     "metadata": {},
     "output_type": "execute_result"
    },
    {
     "data": {
      "image/png": "[encoded data removed]",
      "text/plain": [
       "<Figure size 432x288 with 1 Axes>"
      ]
     },
     "metadata": {},
     "output_type": "display_data"
    }
   ],
   "source": [
    "#Filmu interakciju skaita histogramma\n",
    "df['movieId'].value_counts().plot(kind = 'hist',bins=30)"
   ]
  },
  {
   "cell_type": "code",
   "execution_count": 65,
   "metadata": {
    "ExecuteTime": {
     "end_time": "2022-05-19T17:50:28.699857Z",
     "start_time": "2022-05-19T17:50:28.685839Z"
    }
   },
   "outputs": [
    {
     "data": {
      "text/plain": [
       "(3427277, 5)"
      ]
     },
     "execution_count": 65,
     "metadata": {},
     "output_type": "execute_result"
    }
   ],
   "source": [
    "#kopējais vērtējumu skaits\n",
    "df.shape"
   ]
  },
  {
   "cell_type": "code",
   "execution_count": 66,
   "metadata": {
    "ExecuteTime": {
     "end_time": "2022-05-19T17:50:28.795254Z",
     "start_time": "2022-05-19T17:50:28.700850Z"
    }
   },
   "outputs": [
    {
     "name": "stdout",
     "output_type": "stream",
     "text": [
      "(151077, 2) (137748, 2)\n"
     ]
    }
   ],
   "source": [
    "#lietotāju skaits ar vismaz diviem vērtējumiem\n",
    "df_cnt=df.groupby('userId')['rating'].count().reset_index()\n",
    "print(df_cnt.shape, df_cnt[df_cnt.rating>2].shape)"
   ]
  },
  {
   "cell_type": "code",
   "execution_count": 67,
   "metadata": {
    "ExecuteTime": {
     "end_time": "2022-05-19T17:50:29.436630Z",
     "start_time": "2022-05-19T17:50:28.796255Z"
    }
   },
   "outputs": [
    {
     "name": "stdout",
     "output_type": "stream",
     "text": [
      "(2152, 2) (151077, 2)\n"
     ]
    }
   ],
   "source": [
    "#unikālo filmu un lietotāju skaits\n",
    "movies=df[['movieId','movie_Id']].drop_duplicates()\n",
    "users=df[['userId','user_Id']].drop_duplicates()\n",
    "print(movies.shape,users.shape)"
   ]
  },
  {
   "cell_type": "code",
   "execution_count": 68,
   "metadata": {
    "ExecuteTime": {
     "end_time": "2022-05-19T17:50:29.452568Z",
     "start_time": "2022-05-19T17:50:29.438637Z"
    }
   },
   "outputs": [
    {
     "name": "stdout",
     "output_type": "stream",
     "text": [
      "98.95\n"
     ]
    }
   ],
   "source": [
    "#matrix sparsity check\n",
    "mat_sparsity=round((1-df.shape[0]/(movies.shape[0]*users.shape[0]))*100,2)\n",
    "print(mat_sparsity)"
   ]
  },
  {
   "cell_type": "code",
   "execution_count": 69,
   "metadata": {
    "ExecuteTime": {
     "end_time": "2022-05-19T17:50:29.468557Z",
     "start_time": "2022-05-19T17:50:29.453569Z"
    }
   },
   "outputs": [
    {
     "name": "stdout",
     "output_type": "stream",
     "text": [
      "matricas aizpildījums: 1.05\n"
     ]
    }
   ],
   "source": [
    "print('matricas aizpildījums:', round(100-mat_sparsity,2))"
   ]
  },
  {
   "cell_type": "code",
   "execution_count": 70,
   "metadata": {
    "ExecuteTime": {
     "end_time": "2022-05-19T17:50:30.003057Z",
     "start_time": "2022-05-19T17:50:29.469557Z"
    }
   },
   "outputs": [],
   "source": [
    "#reti aizpildīto matricu konsturēšana no pandas DF\n",
    "sparse_item_user = sparse.csr_matrix((df['rating'].astype(float), (df['movie_Id'], df['user_Id'])))\n",
    "sparse_user_item = sparse.csr_matrix((df['rating'].astype(float), (df['user_Id'], df['movie_Id'])))"
   ]
  },
  {
   "cell_type": "markdown",
   "metadata": {},
   "source": [
    "# Modeļa parametru pārmeklēšana"
   ]
  },
  {
   "cell_type": "code",
   "execution_count": 71,
   "metadata": {
    "ExecuteTime": {
     "end_time": "2022-05-19T17:50:31.031632Z",
     "start_time": "2022-05-19T17:50:30.005069Z"
    }
   },
   "outputs": [],
   "source": [
    "#testa kopas izveidošana - visiem lietotājiem, kuriem ir vismaz divas filmas, vienu izmanotojam testēšanai\n",
    "data_conf_train,data_conf_test=evaluation.leave_k_out_split(sparse_user_item, K=2, train_only_size=0.0, random_state=42)"
   ]
  },
  {
   "cell_type": "code",
   "execution_count": 78,
   "metadata": {
    "ExecuteTime": {
     "end_time": "2022-05-19T17:52:15.373479Z",
     "start_time": "2022-05-19T17:52:15.359477Z"
    }
   },
   "outputs": [],
   "source": [
    "param_grid = {'factors': [12],\n",
    "              'regularization': [1e-1]}"
   ]
  },
  {
   "cell_type": "code",
   "execution_count": 79,
   "metadata": {
    "ExecuteTime": {
     "end_time": "2022-05-19T18:23:18.866499Z",
     "start_time": "2022-05-19T17:52:15.375480Z"
    },
    "scrolled": true
   },
   "outputs": [
    {
     "name": "stdout",
     "output_type": "stream",
     "text": [
      "factors: 12 | regularization: 0.1\n",
      "Iterāciju skaits: 2\n",
      "2022-05-19 20:52:15.378481\n",
      "Testa vērtību skaits: 3\n",
      "Testa vērtību skaits: 5\n",
      "Testa vērtību skaits: 10\n",
      "Testa vērtību skaits: 20\n",
      "Iterāciju skaits: 4\n",
      "2022-05-19 20:53:52.277648\n",
      "Testa vērtību skaits: 3\n",
      "Testa vērtību skaits: 5\n",
      "Testa vērtību skaits: 10\n",
      "Testa vērtību skaits: 20\n",
      "Iterāciju skaits: 6\n",
      "2022-05-19 20:55:28.992100\n",
      "Testa vērtību skaits: 3\n",
      "Testa vērtību skaits: 5\n",
      "Testa vērtību skaits: 10\n",
      "Testa vērtību skaits: 20\n",
      "Iterāciju skaits: 8\n",
      "2022-05-19 20:57:06.776387\n",
      "Testa vērtību skaits: 3\n",
      "Testa vērtību skaits: 5\n",
      "Testa vērtību skaits: 10\n",
      "Testa vērtību skaits: 20\n",
      "Iterāciju skaits: 10\n",
      "2022-05-19 20:58:43.413139\n",
      "Testa vērtību skaits: 3\n",
      "Testa vērtību skaits: 5\n",
      "Testa vērtību skaits: 10\n",
      "Testa vērtību skaits: 20\n",
      "Iterāciju skaits: 12\n",
      "2022-05-19 21:00:20.014173\n",
      "Testa vērtību skaits: 3\n",
      "Testa vērtību skaits: 5\n",
      "Testa vērtību skaits: 10\n",
      "Testa vērtību skaits: 20\n",
      "Iterāciju skaits: 14\n",
      "2022-05-19 21:01:58.854982\n",
      "Testa vērtību skaits: 3\n",
      "Testa vērtību skaits: 5\n",
      "Testa vērtību skaits: 10\n",
      "Testa vērtību skaits: 20\n",
      "Iterāciju skaits: 16\n",
      "2022-05-19 21:03:39.127205\n",
      "Testa vērtību skaits: 3\n",
      "Testa vērtību skaits: 5\n",
      "Testa vērtību skaits: 10\n",
      "Testa vērtību skaits: 20\n",
      "Iterāciju skaits: 18\n",
      "2022-05-19 21:05:16.732186\n",
      "Testa vērtību skaits: 3\n",
      "Testa vērtību skaits: 5\n",
      "Testa vērtību skaits: 10\n",
      "Testa vērtību skaits: 20\n",
      "Iterāciju skaits: 20\n",
      "2022-05-19 21:06:55.224712\n",
      "Testa vērtību skaits: 3\n",
      "Testa vērtību skaits: 5\n",
      "Testa vērtību skaits: 10\n",
      "Testa vērtību skaits: 20\n",
      "Iterāciju skaits: 22\n",
      "2022-05-19 21:08:34.670690\n",
      "Testa vērtību skaits: 3\n",
      "Testa vērtību skaits: 5\n",
      "Testa vērtību skaits: 10\n",
      "Testa vērtību skaits: 20\n",
      "Iterāciju skaits: 24\n",
      "2022-05-19 21:10:12.975139\n",
      "Testa vērtību skaits: 3\n",
      "Testa vērtību skaits: 5\n",
      "Testa vērtību skaits: 10\n",
      "Testa vērtību skaits: 20\n",
      "Iterāciju skaits: 26\n",
      "2022-05-19 21:11:50.633634\n",
      "Testa vērtību skaits: 3\n",
      "Testa vērtību skaits: 5\n",
      "Testa vērtību skaits: 10\n",
      "Testa vērtību skaits: 20\n",
      "Iterāciju skaits: 28\n",
      "2022-05-19 21:13:27.582050\n",
      "Testa vērtību skaits: 3\n",
      "Testa vērtību skaits: 5\n",
      "Testa vērtību skaits: 10\n",
      "Testa vērtību skaits: 20\n",
      "Iterāciju skaits: 30\n",
      "2022-05-19 21:15:05.226240\n",
      "Testa vērtību skaits: 3\n",
      "Testa vērtību skaits: 5\n",
      "Testa vērtību skaits: 10\n",
      "Testa vērtību skaits: 20\n",
      "Iterāciju skaits: 32\n",
      "2022-05-19 21:16:42.335412\n",
      "Testa vērtību skaits: 3\n",
      "Testa vērtību skaits: 5\n",
      "Testa vērtību skaits: 10\n",
      "Testa vērtību skaits: 20\n",
      "Iterāciju skaits: 34\n",
      "2022-05-19 21:18:23.293568\n",
      "Testa vērtību skaits: 3\n",
      "Testa vērtību skaits: 5\n",
      "Testa vērtību skaits: 10\n",
      "Testa vērtību skaits: 20\n",
      "Iterāciju skaits: 36\n",
      "2022-05-19 21:20:02.895794\n",
      "Testa vērtību skaits: 3\n",
      "Testa vērtību skaits: 5\n",
      "Testa vērtību skaits: 10\n",
      "Testa vērtību skaits: 20\n",
      "Iterāciju skaits: 38\n",
      "2022-05-19 21:21:40.935917\n",
      "Testa vērtību skaits: 3\n",
      "Testa vērtību skaits: 5\n",
      "Testa vērtību skaits: 10\n",
      "Testa vērtību skaits: 20\n"
     ]
    }
   ],
   "source": [
    "# modeļa trenēšana ar definēto parametru režģi\n",
    "model=implicit.als.AlternatingLeastSquares()\n",
    "curves = grid_search_learning_curve(model, data_conf_train, data_conf_test,\n",
    "                                    param_grid=param_grid)"
   ]
  },
  {
   "cell_type": "markdown",
   "metadata": {},
   "source": [
    "# Modeļa trenēšana ar labākajiem parametriem un rezultātu pielasīšana"
   ]
  },
  {
   "cell_type": "code",
   "execution_count": 86,
   "metadata": {
    "ExecuteTime": {
     "end_time": "2022-05-19T18:42:12.643914Z",
     "start_time": "2022-05-19T18:42:07.543718Z"
    }
   },
   "outputs": [
    {
     "data": {
      "application/vnd.jupyter.widget-view+json": {
       "model_id": "148ea6432d3a4ef69634b329b698e616",
       "version_major": 2,
       "version_minor": 0
      },
      "text/plain": [
       "  0%|          | 0/22 [00:00<?, ?it/s]"
      ]
     },
     "metadata": {},
     "output_type": "display_data"
    }
   ],
   "source": [
    "#Modeļa veidošana\n",
    "model = implicit.als.AlternatingLeastSquares(factors= 12, regularization=0.01, iterations=22,\n",
    "                                                  calculate_training_loss=True,random_state=42)\n",
    "\n",
    "model.fit(data_conf_train)"
   ]
  },
  {
   "cell_type": "code",
   "execution_count": 73,
   "metadata": {
    "ExecuteTime": {
     "end_time": "2022-05-19T17:50:36.590713Z",
     "start_time": "2022-05-19T17:50:36.576709Z"
    }
   },
   "outputs": [],
   "source": [
    "#precizitātes pārbaude pie dažādām k vērtībām (top k elementos tiek meklēts leave one out testa kopas vienums)"
   ]
  },
  {
   "cell_type": "code",
   "execution_count": 74,
   "metadata": {
    "ExecuteTime": {
     "end_time": "2022-05-19T17:51:01.067027Z",
     "start_time": "2022-05-19T17:50:36.592713Z"
    }
   },
   "outputs": [
    {
     "data": {
      "application/vnd.jupyter.widget-view+json": {
       "model_id": "373f423287e2420395503c8c596031a9",
       "version_major": 2,
       "version_minor": 0
      },
      "text/plain": [
       "  0%|          | 0/132236 [00:00<?, ?it/s]"
      ]
     },
     "metadata": {},
     "output_type": "display_data"
    },
    {
     "data": {
      "text/plain": [
       "{'precision': 0.08222042409026287,\n",
       " 'map': 0.05915307984714511,\n",
       " 'ndcg': 0.07784373485049531,\n",
       " 'auc': 0.5404597154345165}"
      ]
     },
     "execution_count": 74,
     "metadata": {},
     "output_type": "execute_result"
    }
   ],
   "source": [
    "evaluation.ranking_metrics_at_k(model, data_conf_train, data_conf_test, K=3)"
   ]
  },
  {
   "cell_type": "code",
   "execution_count": 75,
   "metadata": {
    "ExecuteTime": {
     "end_time": "2022-05-19T17:51:25.768307Z",
     "start_time": "2022-05-19T17:51:01.069029Z"
    }
   },
   "outputs": [
    {
     "data": {
      "application/vnd.jupyter.widget-view+json": {
       "model_id": "995ab92a79ea44599bbff63d6491e09e",
       "version_major": 2,
       "version_minor": 0
      },
      "text/plain": [
       "  0%|          | 0/132236 [00:00<?, ?it/s]"
      ]
     },
     "metadata": {},
     "output_type": "display_data"
    },
    {
     "data": {
      "text/plain": [
       "{'precision': 0.11337684140476119,\n",
       " 'map': 0.0672420268812381,\n",
       " 'ndcg': 0.09348129604238749,\n",
       " 'auc': 0.555603976540302}"
      ]
     },
     "execution_count": 75,
     "metadata": {},
     "output_type": "execute_result"
    }
   ],
   "source": [
    "evaluation.ranking_metrics_at_k(model, data_conf_train, data_conf_test, K=5)"
   ]
  },
  {
   "cell_type": "code",
   "execution_count": 76,
   "metadata": {
    "ExecuteTime": {
     "end_time": "2022-05-19T17:51:50.583697Z",
     "start_time": "2022-05-19T17:51:25.770310Z"
    }
   },
   "outputs": [
    {
     "data": {
      "application/vnd.jupyter.widget-view+json": {
       "model_id": "9f14c9a22d4f4dfc8a47f447ce21883c",
       "version_major": 2,
       "version_minor": 0
      },
      "text/plain": [
       "  0%|          | 0/132236 [00:00<?, ?it/s]"
      ]
     },
     "metadata": {},
     "output_type": "display_data"
    },
    {
     "data": {
      "text/plain": [
       "{'precision': 0.17217701684866452,\n",
       " 'map': 0.07639400090123045,\n",
       " 'ndcg': 0.11662363691801977,\n",
       " 'auc': 0.5839350945490382}"
      ]
     },
     "execution_count": 76,
     "metadata": {},
     "output_type": "execute_result"
    }
   ],
   "source": [
    "evaluation.ranking_metrics_at_k(model, data_conf_train, data_conf_test, K=10)"
   ]
  },
  {
   "cell_type": "code",
   "execution_count": 77,
   "metadata": {
    "ExecuteTime": {
     "end_time": "2022-05-19T17:52:15.357475Z",
     "start_time": "2022-05-19T17:51:50.585699Z"
    }
   },
   "outputs": [
    {
     "data": {
      "application/vnd.jupyter.widget-view+json": {
       "model_id": "74f53a29b9034ba3904dd1da7924bab2",
       "version_major": 2,
       "version_minor": 0
      },
      "text/plain": [
       "  0%|          | 0/132236 [00:00<?, ?it/s]"
      ]
     },
     "metadata": {},
     "output_type": "display_data"
    },
    {
     "data": {
      "text/plain": [
       "{'precision': 0.25621615898847516,\n",
       " 'map': 0.08359953874965272,\n",
       " 'ndcg': 0.14255024820268328,\n",
       " 'auc': 0.623886036734279}"
      ]
     },
     "execution_count": 77,
     "metadata": {},
     "output_type": "execute_result"
    }
   ],
   "source": [
    "evaluation.ranking_metrics_at_k(model, data_conf_train, data_conf_test, K=20)"
   ]
  },
  {
   "cell_type": "code",
   "execution_count": 81,
   "metadata": {
    "ExecuteTime": {
     "end_time": "2022-05-19T18:40:50.790620Z",
     "start_time": "2022-05-19T18:40:50.097677Z"
    }
   },
   "outputs": [
    {
     "data": {
      "text/html": [
       "<div>\n",
       "<style scoped>\n",
       "    .dataframe tbody tr th:only-of-type {\n",
       "        vertical-align: middle;\n",
       "    }\n",
       "\n",
       "    .dataframe tbody tr th {\n",
       "        vertical-align: top;\n",
       "    }\n",
       "\n",
       "    .dataframe thead th {\n",
       "        text-align: right;\n",
       "    }\n",
       "</style>\n",
       "<table border=\"1\" class=\"dataframe\">\n",
       "  <thead>\n",
       "    <tr style=\"text-align: right;\">\n",
       "      <th></th>\n",
       "      <th>userId</th>\n",
       "      <th>user_Id</th>\n",
       "    </tr>\n",
       "  </thead>\n",
       "  <tbody>\n",
       "    <tr>\n",
       "      <th>0</th>\n",
       "      <td>DTVS0352660</td>\n",
       "      <td>96736</td>\n",
       "    </tr>\n",
       "    <tr>\n",
       "      <th>1</th>\n",
       "      <td>DTVS0196936</td>\n",
       "      <td>49586</td>\n",
       "    </tr>\n",
       "    <tr>\n",
       "      <th>2</th>\n",
       "      <td>DTVS0444587</td>\n",
       "      <td>130693</td>\n",
       "    </tr>\n",
       "    <tr>\n",
       "      <th>3</th>\n",
       "      <td>DTVS0291378</td>\n",
       "      <td>77396</td>\n",
       "    </tr>\n",
       "    <tr>\n",
       "      <th>4</th>\n",
       "      <td>DTVS0076064</td>\n",
       "      <td>17765</td>\n",
       "    </tr>\n",
       "    <tr>\n",
       "      <th>...</th>\n",
       "      <td>...</td>\n",
       "      <td>...</td>\n",
       "    </tr>\n",
       "    <tr>\n",
       "      <th>3540739</th>\n",
       "      <td>DTVS0094038</td>\n",
       "      <td>22312</td>\n",
       "    </tr>\n",
       "    <tr>\n",
       "      <th>3541331</th>\n",
       "      <td>DTVS0246564</td>\n",
       "      <td>64238</td>\n",
       "    </tr>\n",
       "    <tr>\n",
       "      <th>3542670</th>\n",
       "      <td>DTVS0033967</td>\n",
       "      <td>7111</td>\n",
       "    </tr>\n",
       "    <tr>\n",
       "      <th>3542752</th>\n",
       "      <td>DTVS0187147</td>\n",
       "      <td>46683</td>\n",
       "    </tr>\n",
       "    <tr>\n",
       "      <th>3542858</th>\n",
       "      <td>DTVS0474671</td>\n",
       "      <td>142852</td>\n",
       "    </tr>\n",
       "  </tbody>\n",
       "</table>\n",
       "<p>151077 rows × 2 columns</p>\n",
       "</div>"
      ],
      "text/plain": [
       "              userId  user_Id\n",
       "0        DTVS0352660    96736\n",
       "1        DTVS0196936    49586\n",
       "2        DTVS0444587   130693\n",
       "3        DTVS0291378    77396\n",
       "4        DTVS0076064    17765\n",
       "...              ...      ...\n",
       "3540739  DTVS0094038    22312\n",
       "3541331  DTVS0246564    64238\n",
       "3542670  DTVS0033967     7111\n",
       "3542752  DTVS0187147    46683\n",
       "3542858  DTVS0474671   142852\n",
       "\n",
       "[151077 rows x 2 columns]"
      ]
     },
     "execution_count": 81,
     "metadata": {},
     "output_type": "execute_result"
    }
   ],
   "source": [
    "users"
   ]
  },
  {
   "cell_type": "code",
   "execution_count": 91,
   "metadata": {
    "ExecuteTime": {
     "end_time": "2022-05-19T18:42:51.156913Z",
     "start_time": "2022-05-19T18:42:51.145903Z"
    }
   },
   "outputs": [
    {
     "name": "stdout",
     "output_type": "stream",
     "text": [
      "(array([[ 249, 1688,  903, 1352,  216,  461,  460,  462,  911,  912, 1078,\n",
      "         616,  541,  618,  871, 1340,  617,  631,  842,  615,  200, 1491,\n",
      "        1417, 1107, 1190,  208, 1591,  841,  287, 1558,  986, 1189, 1471,\n",
      "        1409,  160,  430, 1522,  792, 1290,  540,  338, 1557,   71, 1441,\n",
      "        1521, 1508, 1274, 1449, 1114, 1161],\n",
      "       [2016, 1947, 1836, 2060, 2056, 2144, 2055, 2059, 1977, 1730, 1683,\n",
      "        2057, 2039, 1999, 1927, 1982, 2052, 2061, 2058, 1734, 2023, 1929,\n",
      "        1535, 2028, 1840, 1910, 1930, 1905, 1949, 1843, 1966, 1862, 2123,\n",
      "        1981, 1679, 2079, 1372, 1915, 2077, 2025, 1053, 1232,  230, 1855,\n",
      "        1108, 1010, 1998, 1837,    5,  257]]), array([[0.99474436, 0.81607765, 0.8156618 , 0.7819611 , 0.701508  ,\n",
      "        0.68843764, 0.6829323 , 0.5907436 , 0.5712441 , 0.43912268,\n",
      "        0.43801022, 0.42675352, 0.3488519 , 0.31185046, 0.30289644,\n",
      "        0.29799676, 0.29748458, 0.29153904, 0.27990425, 0.27813032,\n",
      "        0.27670535, 0.27266198, 0.27174103, 0.26331714, 0.26185217,\n",
      "        0.2597921 , 0.2505557 , 0.24411234, 0.24118178, 0.23558426,\n",
      "        0.23487146, 0.22872168, 0.22558922, 0.22520688, 0.2247591 ,\n",
      "        0.2059576 , 0.20411722, 0.19917795, 0.19196056, 0.18742053,\n",
      "        0.18249957, 0.18029983, 0.1791562 , 0.178226  , 0.17642325,\n",
      "        0.16830379, 0.16449411, 0.16444594, 0.16265233, 0.16095938],\n",
      "       [0.21319985, 0.20878156, 0.17946783, 0.17939775, 0.17330445,\n",
      "        0.16953337, 0.16292758, 0.1624565 , 0.16148193, 0.15996401,\n",
      "        0.15007716, 0.14826134, 0.14231962, 0.13956182, 0.13877365,\n",
      "        0.13736905, 0.13605899, 0.12726384, 0.11703907, 0.11606605,\n",
      "        0.11069521, 0.10797793, 0.1018019 , 0.10170022, 0.10019203,\n",
      "        0.08431789, 0.07703936, 0.07554904, 0.07399883, 0.07251835,\n",
      "        0.06913154, 0.06899847, 0.06817941, 0.0675234 , 0.06358037,\n",
      "        0.06352364, 0.06152963, 0.06081134, 0.05679628, 0.05466278,\n",
      "        0.05284251, 0.05207141, 0.0519255 , 0.05051789, 0.04983662,\n",
      "        0.04803096, 0.04800783, 0.0476581 , 0.04689543, 0.04662785]],\n",
      "      dtype=float32))\n"
     ]
    }
   ],
   "source": [
    "#Get Recommendations\n",
    "user_id =  [119283,49586]\n",
    "recommended = model.recommend(userid=user_id,user_items=sparse_item_user,N=50,filter_already_liked_items=False,recalculate_user=False)\n",
    "print(recommended)"
   ]
  },
  {
   "cell_type": "code",
   "execution_count": 92,
   "metadata": {
    "ExecuteTime": {
     "end_time": "2022-05-19T18:42:53.440883Z",
     "start_time": "2022-05-19T18:42:52.209902Z"
    }
   },
   "outputs": [],
   "source": [
    "# datu transformēšana no ieteikto vienumu un ieteikumu koeficienta masīviem uz pandas DF\n",
    "r=pd.DataFrame(zip(recommended[0],recommended[1],user_id),columns=['movie_Id','value','user_Id'])\n",
    "r2=r.set_index(['user_Id']).apply(pd.Series.explode).reset_index()\n",
    "\n",
    "r3=r2.merge(movies,how='inner',left_on='movie_Id', right_on='movie_Id')\n",
    "rek2=r3.merge(users,how='inner',left_on='user_Id', right_on='user_Id')\n",
    "rek3=pd.merge(rek2,df[['movie_Id','user_Id','rating']],on=['movie_Id','user_Id'],how='left')"
   ]
  },
  {
   "cell_type": "code",
   "execution_count": 93,
   "metadata": {
    "ExecuteTime": {
     "end_time": "2022-05-19T18:42:53.734864Z",
     "start_time": "2022-05-19T18:42:53.720866Z"
    }
   },
   "outputs": [
    {
     "data": {
      "text/plain": [
       "100"
      ]
     },
     "execution_count": 93,
     "metadata": {},
     "output_type": "execute_result"
    }
   ],
   "source": [
    "#unikālo ieteikumu skaits, ko modelis ģenerē pie N ieteikumiem\n",
    "rek3['movie_Id'].nunique()"
   ]
  },
  {
   "cell_type": "markdown",
   "metadata": {},
   "source": [
    "# Līdzīgo filmu atrašana"
   ]
  },
  {
   "cell_type": "code",
   "execution_count": 94,
   "metadata": {
    "ExecuteTime": {
     "end_time": "2022-05-19T18:42:56.661418Z",
     "start_time": "2022-05-19T18:42:56.647397Z"
    }
   },
   "outputs": [
    {
     "name": "stdout",
     "output_type": "stream",
     "text": [
      "(array([ 192, 1630, 1306,   99,  144,  314,   76, 1705,  143,  252]), array([1.0000001 , 0.95118546, 0.9511664 , 0.9499045 , 0.9495225 ,\n",
      "       0.94149995, 0.9284484 , 0.9264    , 0.9178891 , 0.9162155 ],\n",
      "      dtype=float32))\n"
     ]
    }
   ],
   "source": [
    "#līdzīgo filmu pielasīšana\n",
    "item_id = 192\n",
    "n_similar = 10\n",
    "similar = model.similar_items(item_id, n_similar)\n",
    "print(similar)"
   ]
  },
  {
   "cell_type": "code",
   "execution_count": 95,
   "metadata": {
    "ExecuteTime": {
     "end_time": "2022-05-19T18:42:57.400668Z",
     "start_time": "2022-05-19T18:42:57.376609Z"
    }
   },
   "outputs": [
    {
     "data": {
      "text/html": [
       "<div>\n",
       "<style scoped>\n",
       "    .dataframe tbody tr th:only-of-type {\n",
       "        vertical-align: middle;\n",
       "    }\n",
       "\n",
       "    .dataframe tbody tr th {\n",
       "        vertical-align: top;\n",
       "    }\n",
       "\n",
       "    .dataframe thead th {\n",
       "        text-align: right;\n",
       "    }\n",
       "</style>\n",
       "<table border=\"1\" class=\"dataframe\">\n",
       "  <thead>\n",
       "    <tr style=\"text-align: right;\">\n",
       "      <th></th>\n",
       "      <th>movie_Id</th>\n",
       "      <th>value</th>\n",
       "      <th>movieId</th>\n",
       "    </tr>\n",
       "  </thead>\n",
       "  <tbody>\n",
       "    <tr>\n",
       "      <th>0</th>\n",
       "      <td>192</td>\n",
       "      <td>1.000000</td>\n",
       "      <td>bill &amp; ted face the music</td>\n",
       "    </tr>\n",
       "    <tr>\n",
       "      <th>1</th>\n",
       "      <td>1630</td>\n",
       "      <td>0.951185</td>\n",
       "      <td>war for the planet of the apes</td>\n",
       "    </tr>\n",
       "    <tr>\n",
       "      <th>2</th>\n",
       "      <td>1306</td>\n",
       "      <td>0.951166</td>\n",
       "      <td>terminator dark fate</td>\n",
       "    </tr>\n",
       "    <tr>\n",
       "      <th>3</th>\n",
       "      <td>99</td>\n",
       "      <td>0.949905</td>\n",
       "      <td>ant man and the wasp</td>\n",
       "    </tr>\n",
       "    <tr>\n",
       "      <th>4</th>\n",
       "      <td>144</td>\n",
       "      <td>0.949522</td>\n",
       "      <td>avengers infinity war</td>\n",
       "    </tr>\n",
       "    <tr>\n",
       "      <th>5</th>\n",
       "      <td>314</td>\n",
       "      <td>0.941500</td>\n",
       "      <td>dark phoenix</td>\n",
       "    </tr>\n",
       "    <tr>\n",
       "      <th>6</th>\n",
       "      <td>76</td>\n",
       "      <td>0.928448</td>\n",
       "      <td>alita battle angel</td>\n",
       "    </tr>\n",
       "    <tr>\n",
       "      <th>7</th>\n",
       "      <td>1705</td>\n",
       "      <td>0.926400</td>\n",
       "      <td>агрессивная среда звук</td>\n",
       "    </tr>\n",
       "    <tr>\n",
       "      <th>8</th>\n",
       "      <td>143</td>\n",
       "      <td>0.917889</td>\n",
       "      <td>avengers endgame</td>\n",
       "    </tr>\n",
       "    <tr>\n",
       "      <th>9</th>\n",
       "      <td>252</td>\n",
       "      <td>0.916215</td>\n",
       "      <td>captain marvel</td>\n",
       "    </tr>\n",
       "  </tbody>\n",
       "</table>\n",
       "</div>"
      ],
      "text/plain": [
       "   movie_Id     value                         movieId\n",
       "0       192  1.000000       bill & ted face the music\n",
       "1      1630  0.951185  war for the planet of the apes\n",
       "2      1306  0.951166            terminator dark fate\n",
       "3        99  0.949905            ant man and the wasp\n",
       "4       144  0.949522           avengers infinity war\n",
       "5       314  0.941500                    dark phoenix\n",
       "6        76  0.928448              alita battle angel\n",
       "7      1705  0.926400          агрессивная среда звук\n",
       "8       143  0.917889                avengers endgame\n",
       "9       252  0.916215                  captain marvel"
      ]
     },
     "execution_count": 95,
     "metadata": {},
     "output_type": "execute_result"
    }
   ],
   "source": [
    "#līdzīgo filmu piemērs\n",
    "similar_mov=pd.DataFrame(zip(similar[0],similar[1]),columns=['movie_Id','value'])\n",
    "similar_mov.merge(movies,how='inner',on='movie_Id')"
   ]
  },
  {
   "cell_type": "code",
   "execution_count": null,
   "metadata": {},
   "outputs": [],
   "source": []
  }
 ],
 "metadata": {
  "kernelspec": {
   "display_name": "Python 3",
   "language": "python",
   "name": "python3"
  },
  "language_info": {
   "codemirror_mode": {
    "name": "ipython",
    "version": 3
   },
   "file_extension": ".py",
   "mimetype": "text/x-python",
   "name": "python",
   "nbconvert_exporter": "python",
   "pygments_lexer": "ipython3",
   "version": "3.6.5"
  },
  "latex_envs": {
   "LaTeX_envs_menu_present": true,
   "autoclose": false,
   "autocomplete": true,
   "bibliofile": "biblio.bib",
   "cite_by": "apalike",
   "current_citInitial": 1,
   "eqLabelWithNumbers": true,
   "eqNumInitial": 1,
   "hotkeys": {
    "equation": "Ctrl-E",
    "itemize": "Ctrl-I"
   },
   "labels_anchors": false,
   "latex_user_defs": false,
   "report_style_numbering": false,
   "user_envs_cfg": false
  },
  "toc": {
   "base_numbering": 1,
   "nav_menu": {},
   "number_sections": true,
   "sideBar": true,
   "skip_h1_title": false,
   "title_cell": "Table of Contents",
   "title_sidebar": "Contents",
   "toc_cell": false,
   "toc_position": {},
   "toc_section_display": true,
   "toc_window_display": false
  }
 },
 "nbformat": 4,
 "nbformat_minor": 2
}
