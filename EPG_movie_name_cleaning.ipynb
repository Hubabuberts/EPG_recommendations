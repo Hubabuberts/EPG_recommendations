{
 "cells": [
  {
   "cell_type": "markdown",
   "metadata": {},
   "source": [
    "# Bibliotēku importēšana un tīrīšanas funkciju definēšana"
   ]
  },
  {
   "cell_type": "code",
   "execution_count": 2,
   "metadata": {
    "ExecuteTime": {
     "end_time": "2022-05-19T16:57:26.952398Z",
     "start_time": "2022-05-19T16:57:22.927295Z"
    }
   },
   "outputs": [],
   "source": [
    "import pandas as pd\n",
    "pd.set_option('display.max_columns', None)\n",
    "pd.set_option('display.width', None)\n",
    "pd.set_option('display.max_colwidth', None)\n",
    "import numpy as np\n",
    "import ast\n",
    "import re\n",
    "from sklearn.metrics.pairwise import cosine_similarity\n",
    "\n",
    "\n",
    "\n",
    "def preprocessing2(s):\n",
    "    \"\"\"\n",
    "    regulārās izteiksmes funkcija, kas notīra vārdus, kas ievietoti list_of_words, notīra speciālos simbolus, iekavu gadskaitļus un liekās atstarpes un interpunkcijas zīmes\n",
    "    \"\"\"\n",
    "    list_of_words=['документальный фильм','документальный','фильм [0-9]-й','фильм.[0-9]',\n",
    "                   'atjaunota versija','dokumentāla animācijas filma','(angļu|krievu|vācu) val',\n",
    "                   'documentaries','kara drāma','animācijas filma','animācijas īsfilma','romantiska filma',\n",
    "                   'tv (pirmizrāde|pirmizrade)','(pirmizrāde|pirmizrade)','х/ф','многосерийный',\n",
    "                   'spriedzes filma','komēdijdrāma','atjaunotā versija','dokumentāla drāma',\n",
    "                   'dokumentāl[a-z] filmu cikls','komiska melodrāma',\n",
    "                   'dokumentāls īsfilmu cikls','ltv dokumentāl[aā] filma','dokumentāla filma sērijās',\n",
    "                   '(ģimenes|bērnu|pasaku|dokumentāla|piedzīvojumu|dokumentālā|fanatastikas|latviešu|mākslas|animācjas) (spēlfilma|īsfilma|filma|drāma)',\n",
    "                   'atkārtojums','nosl','повтор от и все дальше','документальный проект','актёрские драмы',\n",
    "                   'документальные','премьера','komedija','originalvalodas','otra dala','художественный','полная версия','комедия',\n",
    "                   'актерские драмы','семейные драмы','oriģinālvalodas izvēle.','драма','фильм','rīgas kinostudijas',\n",
    "                   'romantiskā filma','romantiska komēdija','biogrāfiska drāma','drama','drāma',\n",
    "                   'ltv videofilma','romantiska drāma','krimināldrāma','м/ф','д/ф','(продолжение)','ar subtitriem',\n",
    "                   'dokumentals','dokumentalu','komēdija','dokumentala','īsfilma','(filma|īsfilma|spēlfilma)','(new)','(dd|hd)'\n",
    "                  ]\n",
    "    conjoined_words = r'(?:^|[^A-Za-zЁёА-я0-9_]|\\b)(?:{})(?:$|[^A-Za-zЁёА-я0-9_]|\\b)'.format('|'.join(list_of_words))\n",
    "    s = re.sub(conjoined_words, ' ', s)\n",
    "    s = s.replace('“','')\n",
    "    s = s.replace('”','')\n",
    "    s = s.replace('»','')\n",
    "    s = s.replace('\"','')    \n",
    "    s = s.replace('«','')\n",
    "    s = re.sub('\\([0-9]*\\+\\)', '', s)\n",
    "    s = re.sub('–|—', '-', s)\n",
    "    s = re.sub('[,\\.:-]', ' ', s)\n",
    "    s = re.sub('\\([0-9]{4}\\)', '', s)\n",
    "    s = s.strip('. ')\n",
    "    s = re.sub(' +', ' ', s)\n",
    "    s = s.replace('^ +| +$', '')\n",
    "    s = re.sub('[^a-zёА-я0-9āīūēš]+$', '', s)\n",
    "\n",
    "    return s\n",
    "\n",
    "def latval(s):\n",
    "    \"\"\"funkcija, kas pārbauda vai tekstā ir kāds latviešu valodai raksturīgais simbols\"\"\"\n",
    "    latValSimboli = set('āčēģīķļņšūž')\n",
    "    return latValSimboli.intersection(s) != set()\n",
    "def krievuval(s):\n",
    "    \"\"\"funkcija, kas pārbauda vai tekstā ir kāds krievu valodai raksturīgais simbols\"\"\"\n",
    "    krievuValSimboli = set('абвгдежзийклмнопрстуфхцчшщъыьэюя')\n",
    "    return krievuValSimboli.intersection(s) != set()"
   ]
  },
  {
   "cell_type": "code",
   "execution_count": 3,
   "metadata": {
    "ExecuteTime": {
     "end_time": "2022-05-19T16:57:26.967446Z",
     "start_time": "2022-05-19T16:57:26.954394Z"
    }
   },
   "outputs": [],
   "source": [
    "def preprocessing_lower(s):\n",
    "    s = s.lower()\n",
    "    return s"
   ]
  },
  {
   "cell_type": "markdown",
   "metadata": {},
   "source": [
    "# EPG nosaukumu apstrāde"
   ]
  },
  {
   "cell_type": "code",
   "execution_count": 4,
   "metadata": {
    "ExecuteTime": {
     "end_time": "2022-05-19T16:57:27.838365Z",
     "start_time": "2022-05-19T16:57:26.969457Z"
    }
   },
   "outputs": [
    {
     "data": {
      "text/plain": [
       "(15406, 4)"
      ]
     },
     "execution_count": 4,
     "metadata": {},
     "output_type": "execute_result"
    }
   ],
   "source": [
    "df = pd.read_csv(r\"\\Test\\Predict_2022\\epg.csv\")\n",
    "\n",
    "df.shape"
   ]
  },
  {
   "cell_type": "code",
   "execution_count": 5,
   "metadata": {
    "ExecuteTime": {
     "end_time": "2022-05-19T16:57:31.437519Z",
     "start_time": "2022-05-19T16:57:30.311878Z"
    }
   },
   "outputs": [],
   "source": [
    "columns_to_process=['title_full_original', 'title_full_en', 'title_full_lv',\n",
    "       'title_full_ru']\n",
    "\n",
    "# nosaukumu apstrāde - izveidojam papildu lauku, lai atsekotu nosaukumu apstrādi\n",
    "for column in columns_to_process:\n",
    "    df[column+\"_pre\"]=df[column].fillna(\"Nav\").apply(preprocessing_lower)\n",
    "columns_to_process_pre=['title_full_original_pre', 'title_full_en_pre', 'title_full_lv_pre',\n",
    "       'title_full_ru_pre']\n",
    "# izvelkam tekstu jeb filmas nosaukumu no pirmā iekavu komplekta un pielietojam definēto tīrīšanas funkciju\n",
    "for column in columns_to_process_pre:\n",
    "    df[column]=np.where(df[column].str.count('\"')>1,\n",
    "                    df[column].str.split('\"').str[1],\n",
    "                    df[column])\n",
    "    df[column] = df[column].apply(preprocessing2)\n",
    "\n",
    "# seriālu izmešana no datu tabulas\n",
    "listOfSeriesWords = [\"сериал\",\"серия\",\"season\",\"serials\",\"serija\",\"epizode\",\"сезон\",'sērija',\n",
    "                     \"episode\",\"\\se[0-9]+\",\"s[0-9]{1,2}e[0-9]{1,2}\",\n",
    "                     \"s05e\",\"s5e\",\"s06e\",\"s6e\",\"s07e\",\"s7e\",\"s08e\",\"s8e\",\"s09e\",\"s9e\",\"s10e\"]\n",
    "saraksts=[]\n",
    "for l in listOfSeriesWords:\n",
    "    saraksts=r'|'.join(listOfSeriesWords)\n",
    "df=df.loc[df['title_full_original_pre'].str.lower().str.contains(saraksts, na=False,regex=True) == False]\n",
    "df=df.loc[df['title_full_en_pre'].str.lower().str.contains(saraksts, na=False) == False]\n",
    "df=df.loc[df['title_full_lv_pre'].str.lower().str.contains(saraksts, na=False) == False]\n",
    "df=df.loc[df['title_full_ru_pre'].str.lower().str.contains(saraksts, na=False) == False]"
   ]
  },
  {
   "cell_type": "code",
   "execution_count": 6,
   "metadata": {
    "ExecuteTime": {
     "end_time": "2022-05-19T16:57:31.452525Z",
     "start_time": "2022-05-19T16:57:31.440523Z"
    }
   },
   "outputs": [
    {
     "name": "stdout",
     "output_type": "stream",
     "text": [
      "(14370, 8)\n"
     ]
    }
   ],
   "source": [
    "# vienumu skaits pēc seriālu izmešanas\n",
    "print(df.shape)"
   ]
  },
  {
   "cell_type": "code",
   "execution_count": 7,
   "metadata": {
    "ExecuteTime": {
     "end_time": "2022-05-19T16:57:31.979776Z",
     "start_time": "2022-05-19T16:57:31.663411Z"
    }
   },
   "outputs": [],
   "source": [
    "\"\"\"nosakam oriģinālās valodas lauka valodu.\n",
    "sakārtojam valodas pareizajos laukos - ja oriģinālvaloda ir RU, tad pārkopējam uz RU ierakstu, ja LV, tad uz LV,\n",
    "ja nav ne viena, ne otra un en nosaukums nav, pieņemam, ka nosaukums ir anglisks\n",
    "\"\"\"\n",
    "df.loc[(df['title_full_lv_pre']=='nav')&(df['title_full_en_pre'].apply(latval)==True),'title_full_lv_pre']=df['title_full_en_pre']\n",
    "df.loc[df['title_full_en_pre'].apply(latval)==True,'title_full_en_pre']='nav'\n",
    "df.loc[df['title_full_ru_pre'].apply(latval)==True,'title_full_ru_pre']='nav'\n",
    "df.loc[df['title_full_en_pre'].apply(krievuval)==True,'title_full_en_pre']='nav'\n",
    "df.loc[df['title_full_lv_pre'].apply(krievuval)==True,'title_full_lv_pre']='nav'\n",
    "df=df.loc[df['title_full_lv_pre']!='']\n",
    "df.loc[(df['title_full_lv_pre']=='nav')&df['title_full_original_pre'].apply(latval)==True,'title_full_lv_pre']=df['title_full_original_pre']\n",
    "df.loc[(df['title_full_ru_pre']=='nav')&df['title_full_original_pre'].apply(krievuval)==True,'title_full_ru_pre']=df['title_full_original_pre']\n",
    "df.loc[(df['title_full_en_pre']=='nav')&(df['title_full_original_pre'].apply(krievuval)==False)&(df['title_full_original_pre'].apply(latval)==False),'title_full_en_pre']=df['title_full_original_pre']"
   ]
  },
  {
   "cell_type": "code",
   "execution_count": 8,
   "metadata": {
    "ExecuteTime": {
     "end_time": "2022-05-19T16:57:32.846211Z",
     "start_time": "2022-05-19T16:57:32.830214Z"
    }
   },
   "outputs": [
    {
     "data": {
      "text/html": [
       "<div>\n",
       "<style scoped>\n",
       "    .dataframe tbody tr th:only-of-type {\n",
       "        vertical-align: middle;\n",
       "    }\n",
       "\n",
       "    .dataframe tbody tr th {\n",
       "        vertical-align: top;\n",
       "    }\n",
       "\n",
       "    .dataframe thead th {\n",
       "        text-align: right;\n",
       "    }\n",
       "</style>\n",
       "<table border=\"1\" class=\"dataframe\">\n",
       "  <thead>\n",
       "    <tr style=\"text-align: right;\">\n",
       "      <th></th>\n",
       "      <th>title_full_original</th>\n",
       "      <th>title_full_en</th>\n",
       "      <th>title_full_lv</th>\n",
       "      <th>title_full_ru</th>\n",
       "      <th>title_full_original_pre</th>\n",
       "      <th>title_full_en_pre</th>\n",
       "      <th>title_full_lv_pre</th>\n",
       "      <th>title_full_ru_pre</th>\n",
       "    </tr>\n",
       "  </thead>\n",
       "  <tbody>\n",
       "    <tr>\n",
       "      <th>0</th>\n",
       "      <td>Миссис Уксус и мистер Уксус</td>\n",
       "      <td>Mr and Mrs Vinegar</td>\n",
       "      <td>NaN</td>\n",
       "      <td>Миссис Уксус и мистер Уксус</td>\n",
       "      <td>миссис уксус и мистер уксус</td>\n",
       "      <td>mr and mrs vinegar</td>\n",
       "      <td>nav</td>\n",
       "      <td>миссис уксус и мистер уксус</td>\n",
       "    </tr>\n",
       "    <tr>\n",
       "      <th>1</th>\n",
       "      <td>Inga Lindström 88: Geliebter Svenaka</td>\n",
       "      <td>Geliebter Sven</td>\n",
       "      <td>Inga Lindstrēma. Dārgais Svens</td>\n",
       "      <td>NaN</td>\n",
       "      <td>inga lindström 88 geliebter svenaka</td>\n",
       "      <td>geliebter sven</td>\n",
       "      <td>inga lindstrēma dārgais svens</td>\n",
       "      <td>nav</td>\n",
       "    </tr>\n",
       "    <tr>\n",
       "      <th>2</th>\n",
       "      <td>My Boss' Wedding</td>\n",
       "      <td>My Boss' Wedding</td>\n",
       "      <td>Manas priekšnieces kāzas</td>\n",
       "      <td>NaN</td>\n",
       "      <td>my boss' wedding</td>\n",
       "      <td>my boss' wedding</td>\n",
       "      <td>manas priekšnieces kāzas</td>\n",
       "      <td>nav</td>\n",
       "    </tr>\n",
       "    <tr>\n",
       "      <th>3</th>\n",
       "      <td>Снежная королева - 2: Перезаморозка</td>\n",
       "      <td>The Snow Queen 2</td>\n",
       "      <td>Sniega karaliene 2: Pārsalšana</td>\n",
       "      <td>Снежная королева - 2: Перезаморозка</td>\n",
       "      <td>снежная королева 2 перезаморозка</td>\n",
       "      <td>the snow queen 2</td>\n",
       "      <td>sniega karaliene 2 pārsalšana</td>\n",
       "      <td>снежная королева 2 перезаморозка</td>\n",
       "    </tr>\n",
       "    <tr>\n",
       "      <th>5</th>\n",
       "      <td>Charlie's Angels</td>\n",
       "      <td>NaN</td>\n",
       "      <td>Čārlija eņģeļi</td>\n",
       "      <td>NaN</td>\n",
       "      <td>charlie's angels</td>\n",
       "      <td>charlie's angels</td>\n",
       "      <td>čārlija eņģeļi</td>\n",
       "      <td>nav</td>\n",
       "    </tr>\n",
       "  </tbody>\n",
       "</table>\n",
       "</div>"
      ],
      "text/plain": [
       "                    title_full_original       title_full_en  \\\n",
       "0           Миссис Уксус и мистер Уксус  Mr and Mrs Vinegar   \n",
       "1  Inga Lindström 88: Geliebter Svenaka      Geliebter Sven   \n",
       "2                      My Boss' Wedding    My Boss' Wedding   \n",
       "3   Снежная королева - 2: Перезаморозка    The Snow Queen 2   \n",
       "5                      Charlie's Angels                 NaN   \n",
       "\n",
       "                    title_full_lv                        title_full_ru  \\\n",
       "0                             NaN          Миссис Уксус и мистер Уксус   \n",
       "1  Inga Lindstrēma. Dārgais Svens                                  NaN   \n",
       "2        Manas priekšnieces kāzas                                  NaN   \n",
       "3  Sniega karaliene 2: Pārsalšana  Снежная королева - 2: Перезаморозка   \n",
       "5                  Čārlija eņģeļi                                  NaN   \n",
       "\n",
       "               title_full_original_pre   title_full_en_pre  \\\n",
       "0          миссис уксус и мистер уксус  mr and mrs vinegar   \n",
       "1  inga lindström 88 geliebter svenaka      geliebter sven   \n",
       "2                     my boss' wedding    my boss' wedding   \n",
       "3     снежная королева 2 перезаморозка    the snow queen 2   \n",
       "5                     charlie's angels    charlie's angels   \n",
       "\n",
       "               title_full_lv_pre                 title_full_ru_pre  \n",
       "0                            nav       миссис уксус и мистер уксус  \n",
       "1  inga lindstrēma dārgais svens                               nav  \n",
       "2       manas priekšnieces kāzas                               nav  \n",
       "3  sniega karaliene 2 pārsalšana  снежная королева 2 перезаморозка  \n",
       "5                 čārlija eņģeļi                               nav  "
      ]
     },
     "execution_count": 8,
     "metadata": {},
     "output_type": "execute_result"
    }
   ],
   "source": [
    "#datu paraugs\n",
    "df.head(5)"
   ]
  },
  {
   "cell_type": "code",
   "execution_count": 9,
   "metadata": {
    "ExecuteTime": {
     "end_time": "2022-05-19T16:57:34.319227Z",
     "start_time": "2022-05-19T16:57:34.303237Z"
    }
   },
   "outputs": [
    {
     "name": "stdout",
     "output_type": "stream",
     "text": [
      "(14369, 8)\n"
     ]
    }
   ],
   "source": [
    "print(df.shape)"
   ]
  }
 ],
 "metadata": {
  "kernelspec": {
   "display_name": "Python 3",
   "language": "python",
   "name": "python3"
  },
  "language_info": {
   "codemirror_mode": {
    "name": "ipython",
    "version": 3
   },
   "file_extension": ".py",
   "mimetype": "text/x-python",
   "name": "python",
   "nbconvert_exporter": "python",
   "pygments_lexer": "ipython3",
   "version": "3.6.5"
  },
  "latex_envs": {
   "LaTeX_envs_menu_present": true,
   "autoclose": false,
   "autocomplete": true,
   "bibliofile": "biblio.bib",
   "cite_by": "apalike",
   "current_citInitial": 1,
   "eqLabelWithNumbers": true,
   "eqNumInitial": 1,
   "hotkeys": {
    "equation": "Ctrl-E",
    "itemize": "Ctrl-I"
   },
   "labels_anchors": false,
   "latex_user_defs": false,
   "report_style_numbering": false,
   "user_envs_cfg": false
  },
  "toc": {
   "base_numbering": 1,
   "nav_menu": {},
   "number_sections": true,
   "sideBar": true,
   "skip_h1_title": false,
   "title_cell": "Table of Contents",
   "title_sidebar": "Contents",
   "toc_cell": false,
   "toc_position": {},
   "toc_section_display": true,
   "toc_window_display": false
  }
 },
 "nbformat": 4,
 "nbformat_minor": 2
}
