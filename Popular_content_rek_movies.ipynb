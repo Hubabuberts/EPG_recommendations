{
 "cells": [
  {
   "cell_type": "markdown",
   "metadata": {},
   "source": [
    "# Libraries"
   ]
  },
  {
   "cell_type": "code",
   "execution_count": 1,
   "metadata": {
    "ExecuteTime": {
     "end_time": "2022-05-19T19:01:55.154414Z",
     "start_time": "2022-05-19T19:01:54.841826Z"
    }
   },
   "outputs": [],
   "source": [
    "import pandas as pd\n",
    "pd.set_option('display.max_columns', None)\n",
    "pd.set_option('display.width', None)\n",
    "pd.set_option('display.max_colwidth', None)\n",
    "import numpy as np\n",
    "import ast"
   ]
  },
  {
   "cell_type": "markdown",
   "metadata": {},
   "source": [
    "# Populārāko filmu aprēķins pag. nedēļā"
   ]
  },
  {
   "cell_type": "code",
   "execution_count": 2,
   "metadata": {
    "ExecuteTime": {
     "end_time": "2022-05-19T19:01:56.043602Z",
     "start_time": "2022-05-19T19:01:55.716782Z"
    }
   },
   "outputs": [
    {
     "data": {
      "text/plain": [
       "(394, 4)"
      ]
     },
     "execution_count": 2,
     "metadata": {},
     "output_type": "execute_result"
    }
   ],
   "source": [
    "df = pd.read_csv(r\"\\Dati_mag_darbam\\populārākie_raidījumi_ned_test.csv\")\n",
    "df.rename(columns={\"movieid\":\"movieId\",\"userid\":\"idd_wh_service\"},inplace=True)\n",
    "df.shape"
   ]
  },
  {
   "cell_type": "code",
   "execution_count": 3,
   "metadata": {
    "ExecuteTime": {
     "end_time": "2022-05-19T19:01:56.616708Z",
     "start_time": "2022-05-19T19:01:56.564704Z"
    }
   },
   "outputs": [
    {
     "data": {
      "text/html": [
       "<div>\n",
       "<style scoped>\n",
       "    .dataframe tbody tr th:only-of-type {\n",
       "        vertical-align: middle;\n",
       "    }\n",
       "\n",
       "    .dataframe tbody tr th {\n",
       "        vertical-align: top;\n",
       "    }\n",
       "\n",
       "    .dataframe thead th {\n",
       "        text-align: right;\n",
       "    }\n",
       "</style>\n",
       "<table border=\"1\" class=\"dataframe\">\n",
       "  <thead>\n",
       "    <tr style=\"text-align: right;\">\n",
       "      <th></th>\n",
       "      <th>movieId</th>\n",
       "      <th>channel_name</th>\n",
       "      <th>genre_en</th>\n",
       "      <th>cnt</th>\n",
       "    </tr>\n",
       "  </thead>\n",
       "  <tbody>\n",
       "    <tr>\n",
       "      <th>0</th>\n",
       "      <td>13 going on 30</td>\n",
       "      <td>VIP Comedy</td>\n",
       "      <td>[Comedy]</td>\n",
       "      <td>1166</td>\n",
       "    </tr>\n",
       "    <tr>\n",
       "      <th>1</th>\n",
       "      <td>три жизни виктора сухорукова</td>\n",
       "      <td>ТВ Центр international</td>\n",
       "      <td>[Drama]</td>\n",
       "      <td>923</td>\n",
       "    </tr>\n",
       "    <tr>\n",
       "      <th>2</th>\n",
       "      <td>evolution</td>\n",
       "      <td>Sony Turbo</td>\n",
       "      <td>[Comedy, Sci-Fi]</td>\n",
       "      <td>20</td>\n",
       "    </tr>\n",
       "    <tr>\n",
       "      <th>3</th>\n",
       "      <td>robins huds</td>\n",
       "      <td>Filmzone</td>\n",
       "      <td>[Drama, Action, Adventure, Thriller]</td>\n",
       "      <td>497</td>\n",
       "    </tr>\n",
       "    <tr>\n",
       "      <th>4</th>\n",
       "      <td>the eye</td>\n",
       "      <td>TV1000 Action</td>\n",
       "      <td>[Drama, Mystery, Thriller, Horror]</td>\n",
       "      <td>97</td>\n",
       "    </tr>\n",
       "  </tbody>\n",
       "</table>\n",
       "</div>"
      ],
      "text/plain": [
       "                        movieId            channel_name  \\\n",
       "0                13 going on 30              VIP Comedy   \n",
       "1  три жизни виктора сухорукова  ТВ Центр international   \n",
       "2                     evolution              Sony Turbo   \n",
       "3                   robins huds                Filmzone   \n",
       "4                       the eye           TV1000 Action   \n",
       "\n",
       "                               genre_en   cnt  \n",
       "0                              [Comedy]  1166  \n",
       "1                               [Drama]   923  \n",
       "2                      [Comedy, Sci-Fi]    20  \n",
       "3  [Drama, Action, Adventure, Thriller]   497  \n",
       "4    [Drama, Mystery, Thriller, Horror]    97  "
      ]
     },
     "execution_count": 3,
     "metadata": {},
     "output_type": "execute_result"
    }
   ],
   "source": [
    "df.head()"
   ]
  },
  {
   "cell_type": "code",
   "execution_count": 7,
   "metadata": {
    "ExecuteTime": {
     "end_time": "2022-05-19T19:03:44.465107Z",
     "start_time": "2022-05-19T19:03:44.453102Z"
    }
   },
   "outputs": [
    {
     "name": "stdout",
     "output_type": "stream",
     "text": [
      "(394, 4)\n"
     ]
    }
   ],
   "source": [
    "print(df.shape)\n",
    "df2=df.sort_values(by=['cnt'],ascending=False).head(15).drop(columns='cnt')"
   ]
  },
  {
   "cell_type": "code",
   "execution_count": 8,
   "metadata": {
    "ExecuteTime": {
     "end_time": "2022-05-19T19:03:44.886165Z",
     "start_time": "2022-05-19T19:03:44.878179Z"
    }
   },
   "outputs": [
    {
     "data": {
      "text/html": [
       "<div>\n",
       "<style scoped>\n",
       "    .dataframe tbody tr th:only-of-type {\n",
       "        vertical-align: middle;\n",
       "    }\n",
       "\n",
       "    .dataframe tbody tr th {\n",
       "        vertical-align: top;\n",
       "    }\n",
       "\n",
       "    .dataframe thead th {\n",
       "        text-align: right;\n",
       "    }\n",
       "</style>\n",
       "<table border=\"1\" class=\"dataframe\">\n",
       "  <thead>\n",
       "    <tr style=\"text-align: right;\">\n",
       "      <th></th>\n",
       "      <th>movieId</th>\n",
       "      <th>channel_name</th>\n",
       "      <th>genre_en</th>\n",
       "    </tr>\n",
       "  </thead>\n",
       "  <tbody>\n",
       "    <tr>\n",
       "      <th>44</th>\n",
       "      <td>calvin &amp; kaison's play power</td>\n",
       "      <td>Nick Jr</td>\n",
       "      <td>[Family]</td>\n",
       "    </tr>\n",
       "    <tr>\n",
       "      <th>202</th>\n",
       "      <td>rambo first blood part ii</td>\n",
       "      <td>TV6</td>\n",
       "      <td>[Action, Adventure, Thriller]</td>\n",
       "    </tr>\n",
       "    <tr>\n",
       "      <th>337</th>\n",
       "      <td>zosu gane</td>\n",
       "      <td>LTV1</td>\n",
       "      <td>[Family]</td>\n",
       "    </tr>\n",
       "    <tr>\n",
       "      <th>309</th>\n",
       "      <td>tomasa krauna afera</td>\n",
       "      <td>STV Pirmā!</td>\n",
       "      <td>[Crime]</td>\n",
       "    </tr>\n",
       "    <tr>\n",
       "      <th>183</th>\n",
       "      <td>otīlija fon fābere kastela 2 daļa</td>\n",
       "      <td>LTV1</td>\n",
       "      <td>[Biography, Drama, Historical]</td>\n",
       "    </tr>\n",
       "    <tr>\n",
       "      <th>391</th>\n",
       "      <td>шальные браки</td>\n",
       "      <td>ТВ Центр international</td>\n",
       "      <td>[Drama]</td>\n",
       "    </tr>\n",
       "    <tr>\n",
       "      <th>179</th>\n",
       "      <td>non stop</td>\n",
       "      <td>TV3</td>\n",
       "      <td>[Action, Mystery, Thriller]</td>\n",
       "    </tr>\n",
       "    <tr>\n",
       "      <th>359</th>\n",
       "      <td>ирина печерникова от первой до последней любви</td>\n",
       "      <td>ТВ Центр international</td>\n",
       "      <td>[Drama]</td>\n",
       "    </tr>\n",
       "    <tr>\n",
       "      <th>161</th>\n",
       "      <td>misters tvisters uz skatuves</td>\n",
       "      <td>LTV1</td>\n",
       "      <td>[Drama, Comedy, Family]</td>\n",
       "    </tr>\n",
       "    <tr>\n",
       "      <th>298</th>\n",
       "      <td>the titan</td>\n",
       "      <td>3+</td>\n",
       "      <td>[Drama, Romance, Mystery, Thriller, Sci-Fi]</td>\n",
       "    </tr>\n",
       "    <tr>\n",
       "      <th>352</th>\n",
       "      <td>екатерина фурцева жертва любви</td>\n",
       "      <td>ТВ Центр international</td>\n",
       "      <td>[Drama]</td>\n",
       "    </tr>\n",
       "    <tr>\n",
       "      <th>323</th>\n",
       "      <td>vārnu ielas republika</td>\n",
       "      <td>LTV1</td>\n",
       "      <td>[Family]</td>\n",
       "    </tr>\n",
       "    <tr>\n",
       "      <th>358</th>\n",
       "      <td>инна макарова предсказание судьбы</td>\n",
       "      <td>ТВ Центр international</td>\n",
       "      <td>[Drama]</td>\n",
       "    </tr>\n",
       "    <tr>\n",
       "      <th>385</th>\n",
       "      <td>три богатыря на дальних берегах</td>\n",
       "      <td>TV3</td>\n",
       "      <td>[Animation]</td>\n",
       "    </tr>\n",
       "    <tr>\n",
       "      <th>366</th>\n",
       "      <td>михаил светин выше всех</td>\n",
       "      <td>ТВ Центр international</td>\n",
       "      <td>[Drama]</td>\n",
       "    </tr>\n",
       "  </tbody>\n",
       "</table>\n",
       "</div>"
      ],
      "text/plain": [
       "                                            movieId            channel_name  \\\n",
       "44                     calvin & kaison's play power                 Nick Jr   \n",
       "202                       rambo first blood part ii                     TV6   \n",
       "337                                       zosu gane                    LTV1   \n",
       "309                             tomasa krauna afera              STV Pirmā!   \n",
       "183               otīlija fon fābere kastela 2 daļa                    LTV1   \n",
       "391                                   шальные браки  ТВ Центр international   \n",
       "179                                        non stop                     TV3   \n",
       "359  ирина печерникова от первой до последней любви  ТВ Центр international   \n",
       "161                    misters tvisters uz skatuves                    LTV1   \n",
       "298                                       the titan                      3+   \n",
       "352                  екатерина фурцева жертва любви  ТВ Центр international   \n",
       "323                           vārnu ielas republika                    LTV1   \n",
       "358               инна макарова предсказание судьбы  ТВ Центр international   \n",
       "385                 три богатыря на дальних берегах                     TV3   \n",
       "366                         михаил светин выше всех  ТВ Центр international   \n",
       "\n",
       "                                        genre_en  \n",
       "44                                      [Family]  \n",
       "202                [Action, Adventure, Thriller]  \n",
       "337                                     [Family]  \n",
       "309                                      [Crime]  \n",
       "183               [Biography, Drama, Historical]  \n",
       "391                                      [Drama]  \n",
       "179                  [Action, Mystery, Thriller]  \n",
       "359                                      [Drama]  \n",
       "161                      [Drama, Comedy, Family]  \n",
       "298  [Drama, Romance, Mystery, Thriller, Sci-Fi]  \n",
       "352                                      [Drama]  \n",
       "323                                     [Family]  \n",
       "358                                      [Drama]  \n",
       "385                                  [Animation]  \n",
       "366                                      [Drama]  "
      ]
     },
     "execution_count": 8,
     "metadata": {},
     "output_type": "execute_result"
    }
   ],
   "source": [
    "#top 10 filmas\n",
    "df2"
   ]
  },
  {
   "cell_type": "markdown",
   "metadata": {},
   "source": [
    "# Lietotāja preferences"
   ]
  },
  {
   "cell_type": "code",
   "execution_count": 9,
   "metadata": {
    "ExecuteTime": {
     "end_time": "2022-05-12T13:44:17.242241Z",
     "start_time": "2022-05-12T13:43:41.360613Z"
    }
   },
   "outputs": [],
   "source": [
    "#lietotāju preferenču aprēķins, ņemot lietotāja skatītāko stundu, dienu un žanru kombināciju, kā arī aprēķināti lietotāja lietotie kanāli\n",
    "pref = pd.read_csv(r\"\\Dati_mag_darbam\\user_value_calc.csv\")\n",
    "list_parameters=['genre_en']\n",
    "for item in list_parameters:\n",
    "    pref[item]=pref[item].str.replace(' ','').str.strip('[]').str.split(',')\n",
    "    pref=pref.explode(item)\n",
    "pref_kanali=pref.groupby(['idd_wh_service','channel_name'])['sum_len_broadcast_h_calc'].sum().reset_index()\n",
    "pref=pref.groupby(['hour', 'is_weekend', 'genre_en', 'idd_wh_service'])['sum_len_broadcast_h_calc'].sum().reset_index()\n",
    "pref.sort_values(by=['idd_wh_service','sum_len_broadcast_h_calc'],ascending=False,inplace=True)\n",
    "pref=pref.groupby('idd_wh_service').head(10).reset_index(drop=True)"
   ]
  },
  {
   "cell_type": "code",
   "execution_count": 10,
   "metadata": {
    "ExecuteTime": {
     "end_time": "2022-05-12T13:44:17.336274Z",
     "start_time": "2022-05-12T13:44:17.243234Z"
    }
   },
   "outputs": [
    {
     "data": {
      "text/html": [
       "<div>\n",
       "<style scoped>\n",
       "    .dataframe tbody tr th:only-of-type {\n",
       "        vertical-align: middle;\n",
       "    }\n",
       "\n",
       "    .dataframe tbody tr th {\n",
       "        vertical-align: top;\n",
       "    }\n",
       "\n",
       "    .dataframe thead th {\n",
       "        text-align: right;\n",
       "    }\n",
       "</style>\n",
       "<table border=\"1\" class=\"dataframe\">\n",
       "  <thead>\n",
       "    <tr style=\"text-align: right;\">\n",
       "      <th></th>\n",
       "      <th>hour</th>\n",
       "      <th>is_weekend</th>\n",
       "      <th>genre_en</th>\n",
       "      <th>idd_wh_service</th>\n",
       "      <th>sum_len_broadcast_h_calc</th>\n",
       "    </tr>\n",
       "  </thead>\n",
       "  <tbody>\n",
       "    <tr>\n",
       "      <th>799981</th>\n",
       "      <td>18-23</td>\n",
       "      <td>Nē</td>\n",
       "      <td>Drama</td>\n",
       "      <td>DTVS0223886</td>\n",
       "      <td>10.579722</td>\n",
       "    </tr>\n",
       "    <tr>\n",
       "      <th>799982</th>\n",
       "      <td>18-23</td>\n",
       "      <td>Nē</td>\n",
       "      <td>Action</td>\n",
       "      <td>DTVS0223886</td>\n",
       "      <td>9.347500</td>\n",
       "    </tr>\n",
       "    <tr>\n",
       "      <th>799983</th>\n",
       "      <td>18-23</td>\n",
       "      <td>Nē</td>\n",
       "      <td>Thriller</td>\n",
       "      <td>DTVS0223886</td>\n",
       "      <td>8.086944</td>\n",
       "    </tr>\n",
       "    <tr>\n",
       "      <th>799984</th>\n",
       "      <td>18-23</td>\n",
       "      <td>Nē</td>\n",
       "      <td>Romance</td>\n",
       "      <td>DTVS0223886</td>\n",
       "      <td>6.971389</td>\n",
       "    </tr>\n",
       "    <tr>\n",
       "      <th>799985</th>\n",
       "      <td>18-23</td>\n",
       "      <td>Jā</td>\n",
       "      <td>Drama</td>\n",
       "      <td>DTVS0223886</td>\n",
       "      <td>6.416111</td>\n",
       "    </tr>\n",
       "    <tr>\n",
       "      <th>799986</th>\n",
       "      <td>12-18</td>\n",
       "      <td>Jā</td>\n",
       "      <td>Adventure</td>\n",
       "      <td>DTVS0223886</td>\n",
       "      <td>5.270833</td>\n",
       "    </tr>\n",
       "    <tr>\n",
       "      <th>799987</th>\n",
       "      <td>12-18</td>\n",
       "      <td>Jā</td>\n",
       "      <td>Family</td>\n",
       "      <td>DTVS0223886</td>\n",
       "      <td>5.270833</td>\n",
       "    </tr>\n",
       "    <tr>\n",
       "      <th>799988</th>\n",
       "      <td>18-23</td>\n",
       "      <td>Nē</td>\n",
       "      <td>Sci-Fi</td>\n",
       "      <td>DTVS0223886</td>\n",
       "      <td>5.265000</td>\n",
       "    </tr>\n",
       "    <tr>\n",
       "      <th>799989</th>\n",
       "      <td>12-18</td>\n",
       "      <td>Jā</td>\n",
       "      <td>Drama</td>\n",
       "      <td>DTVS0223886</td>\n",
       "      <td>4.863611</td>\n",
       "    </tr>\n",
       "    <tr>\n",
       "      <th>799990</th>\n",
       "      <td>12-18</td>\n",
       "      <td>Jā</td>\n",
       "      <td>Fantasy</td>\n",
       "      <td>DTVS0223886</td>\n",
       "      <td>4.217500</td>\n",
       "    </tr>\n",
       "  </tbody>\n",
       "</table>\n",
       "</div>"
      ],
      "text/plain": [
       "         hour is_weekend   genre_en idd_wh_service  sum_len_broadcast_h_calc\n",
       "799981  18-23         Nē      Drama    DTVS0223886                 10.579722\n",
       "799982  18-23         Nē     Action    DTVS0223886                  9.347500\n",
       "799983  18-23         Nē   Thriller    DTVS0223886                  8.086944\n",
       "799984  18-23         Nē    Romance    DTVS0223886                  6.971389\n",
       "799985  18-23         Jā      Drama    DTVS0223886                  6.416111\n",
       "799986  12-18         Jā  Adventure    DTVS0223886                  5.270833\n",
       "799987  12-18         Jā     Family    DTVS0223886                  5.270833\n",
       "799988  18-23         Nē     Sci-Fi    DTVS0223886                  5.265000\n",
       "799989  12-18         Jā      Drama    DTVS0223886                  4.863611\n",
       "799990  12-18         Jā    Fantasy    DTVS0223886                  4.217500"
      ]
     },
     "execution_count": 10,
     "metadata": {},
     "output_type": "execute_result"
    }
   ],
   "source": [
    "#preferenču piemērs\n",
    "pref[pref.idd_wh_service=='DTVS0223886']"
   ]
  },
  {
   "cell_type": "code",
   "execution_count": 12,
   "metadata": {
    "ExecuteTime": {
     "end_time": "2022-05-12T13:44:17.723179Z",
     "start_time": "2022-05-12T13:44:17.352259Z"
    }
   },
   "outputs": [],
   "source": [
    "#populārāko skatīšanās laiku aprēķins iepriekšējā mēneša laikā - top 15 pozīcijas katrā kanālā\n",
    "pop_param = pd.read_csv(r\"\\Dati_mag_darbam\\populārākā_satura_parametri_menesis.csv\")\n",
    "list_parameters=['genre_en']\n",
    "for item in list_parameters:\n",
    "    pop_param[item]=pop_param[item].str.replace(' ','').str.strip('[]').str.split(',')\n",
    "    pop_param=pop_param.explode(item)\n",
    "    pop_param.groupby(['hour', 'is_weekend', 'channel_name', 'genre_en'])['cnt'].sum().reset_index(drop=True,inplace=True)\n",
    "    pop_param.sort_values(by=['channel_name','cnt'],ascending=False,inplace=True)\n",
    "    pop_param=pop_param.groupby('channel_name').head(15).reset_index(drop=True)"
   ]
  },
  {
   "cell_type": "code",
   "execution_count": 14,
   "metadata": {
    "ExecuteTime": {
     "end_time": "2022-05-12T13:44:17.879496Z",
     "start_time": "2022-05-12T13:44:17.741177Z"
    }
   },
   "outputs": [
    {
     "name": "stdout",
     "output_type": "stream",
     "text": [
      "(3156, 6)\n"
     ]
    },
    {
     "data": {
      "text/html": [
       "<div>\n",
       "<style scoped>\n",
       "    .dataframe tbody tr th:only-of-type {\n",
       "        vertical-align: middle;\n",
       "    }\n",
       "\n",
       "    .dataframe tbody tr th {\n",
       "        vertical-align: top;\n",
       "    }\n",
       "\n",
       "    .dataframe thead th {\n",
       "        text-align: right;\n",
       "    }\n",
       "</style>\n",
       "<table border=\"1\" class=\"dataframe\">\n",
       "  <thead>\n",
       "    <tr style=\"text-align: right;\">\n",
       "      <th></th>\n",
       "      <th>hour</th>\n",
       "      <th>is_weekend</th>\n",
       "      <th>channel_name</th>\n",
       "      <th>genre_en</th>\n",
       "      <th>movieId</th>\n",
       "      <th>dt_epg_start</th>\n",
       "    </tr>\n",
       "  </thead>\n",
       "  <tbody>\n",
       "    <tr>\n",
       "      <th>0</th>\n",
       "      <td>23-01</td>\n",
       "      <td>Jā</td>\n",
       "      <td>РТР-Планета</td>\n",
       "      <td>Drama</td>\n",
       "      <td>деревенщина</td>\n",
       "      <td>2021-04-04</td>\n",
       "    </tr>\n",
       "    <tr>\n",
       "      <th>1</th>\n",
       "      <td>6-9</td>\n",
       "      <td>Jā</td>\n",
       "      <td>360TV</td>\n",
       "      <td>Action</td>\n",
       "      <td>spiegu berni</td>\n",
       "      <td>2021-04-04</td>\n",
       "    </tr>\n",
       "    <tr>\n",
       "      <th>1</th>\n",
       "      <td>6-9</td>\n",
       "      <td>Jā</td>\n",
       "      <td>360TV</td>\n",
       "      <td>Adventure</td>\n",
       "      <td>spiegu berni</td>\n",
       "      <td>2021-04-04</td>\n",
       "    </tr>\n",
       "    <tr>\n",
       "      <th>1</th>\n",
       "      <td>6-9</td>\n",
       "      <td>Jā</td>\n",
       "      <td>360TV</td>\n",
       "      <td>Comedy</td>\n",
       "      <td>spiegu berni</td>\n",
       "      <td>2021-04-04</td>\n",
       "    </tr>\n",
       "    <tr>\n",
       "      <th>1</th>\n",
       "      <td>6-9</td>\n",
       "      <td>Jā</td>\n",
       "      <td>360TV</td>\n",
       "      <td>Family</td>\n",
       "      <td>spiegu berni</td>\n",
       "      <td>2021-04-04</td>\n",
       "    </tr>\n",
       "  </tbody>\n",
       "</table>\n",
       "</div>"
      ],
      "text/plain": [
       "    hour is_weekend channel_name   genre_en       movieId dt_epg_start\n",
       "0  23-01         Jā  РТР-Планета      Drama   деревенщина   2021-04-04\n",
       "1    6-9         Jā        360TV     Action  spiegu berni   2021-04-04\n",
       "1    6-9         Jā        360TV  Adventure  spiegu berni   2021-04-04\n",
       "1    6-9         Jā        360TV     Comedy  spiegu berni   2021-04-04\n",
       "1    6-9         Jā        360TV     Family  spiegu berni   2021-04-04"
      ]
     },
     "execution_count": 14,
     "metadata": {},
     "output_type": "execute_result"
    }
   ],
   "source": [
    "#pieejamā satura parametru apstrāde\n",
    "pieejams = pd.read_csv(r\"\\Dati_mag_darbam\\next_week_avlbl.csv\")\n",
    "list_parameters=['genre_en']\n",
    "for item in list_parameters:\n",
    "    pieejams[item]=pieejams[item].str.replace(' ','').str.strip('[]').str.split(',')\n",
    "    pieejams=pieejams.explode(item)\n",
    "pieejams.rename(columns={\"movieid\":\"movieId\"},inplace=True)\n",
    "print(pieejams.shape)\n",
    "pieejams.head()"
   ]
  },
  {
   "cell_type": "code",
   "execution_count": 15,
   "metadata": {
    "ExecuteTime": {
     "end_time": "2022-05-12T13:44:17.894493Z",
     "start_time": "2022-05-12T13:44:17.881497Z"
    }
   },
   "outputs": [
    {
     "data": {
      "text/plain": [
       "(1074, 7)"
      ]
     },
     "execution_count": 15,
     "metadata": {},
     "output_type": "execute_result"
    }
   ],
   "source": [
    "#aprēķināts populārs un pieejams saturs\n",
    "pop_un_pieejams=pieejams.merge(pop_param, how='inner', on=['hour','is_weekend','channel_name','genre_en'])\n",
    "pop_un_pieejams.shape"
   ]
  },
  {
   "cell_type": "code",
   "execution_count": 16,
   "metadata": {
    "ExecuteTime": {
     "end_time": "2022-05-12T13:44:33.345451Z",
     "start_time": "2022-05-12T13:44:17.896487Z"
    }
   },
   "outputs": [],
   "source": [
    "#lietotāja preferences apvienotas ar pieejamo un populāro saturu. Pievienotas arī lietotāja kanālu preferences\n",
    "pop_ieteikumi=pref.merge(pop_un_pieejams, how='inner', on=['hour','is_weekend','genre_en'])\n",
    "pop_ieteikumi=pop_ieteikumi.merge(pref_kanali.rename(columns={'sum_len_broadcast_h_calc':'channel_pref'}), how='left', on=['idd_wh_service','channel_name'])"
   ]
  },
  {
   "cell_type": "code",
   "execution_count": 17,
   "metadata": {
    "ExecuteTime": {
     "end_time": "2022-05-12T13:45:00.445855Z",
     "start_time": "2022-05-12T13:44:33.352413Z"
    }
   },
   "outputs": [],
   "source": [
    "#aprēķināts lietotājam ieteiktais populārais saturs, vispirms kārtojot pēc iecienītākajiem skatīšanās laikiem uc. parametriem\n",
    "# un lietotāja skatītajiem kanāliem. Ja kanāls nav skatīts, bet pārējie parametri atbilst, šie ieteikumi nāks pēc\n",
    "#atlasītas 10 ieteiktās vienības\n",
    "pop_ieteikumi.drop_duplicates(subset=('hour','is_weekend','idd_wh_service','channel_name','movieId'),inplace=True)\n",
    "pop_ieteikumi.sort_values(by=['idd_wh_service','channel_pref'],ascending=False,inplace=True)\n",
    "pop_ieteikumi=pop_ieteikumi.groupby('idd_wh_service').head(10).reset_index(drop=True)"
   ]
  },
  {
   "cell_type": "code",
   "execution_count": 18,
   "metadata": {
    "ExecuteTime": {
     "end_time": "2022-05-12T13:45:00.461859Z",
     "start_time": "2022-05-12T13:45:00.448856Z"
    }
   },
   "outputs": [
    {
     "data": {
      "text/plain": [
       "(1425708, 10)"
      ]
     },
     "execution_count": 18,
     "metadata": {},
     "output_type": "execute_result"
    }
   ],
   "source": [
    "pop_ieteikumi.shape"
   ]
  },
  {
   "cell_type": "code",
   "execution_count": 19,
   "metadata": {
    "ExecuteTime": {
     "end_time": "2022-05-12T13:45:00.557881Z",
     "start_time": "2022-05-12T13:45:00.463860Z"
    }
   },
   "outputs": [
    {
     "data": {
      "text/plain": [
       "371"
      ]
     },
     "execution_count": 19,
     "metadata": {},
     "output_type": "execute_result"
    }
   ],
   "source": [
    "pop_ieteikumi.movieId.nunique()"
   ]
  },
  {
   "cell_type": "code",
   "execution_count": 20,
   "metadata": {
    "ExecuteTime": {
     "end_time": "2022-05-12T13:45:00.682493Z",
     "start_time": "2022-05-12T13:45:00.560887Z"
    }
   },
   "outputs": [
    {
     "data": {
      "text/html": [
       "<div>\n",
       "<style scoped>\n",
       "    .dataframe tbody tr th:only-of-type {\n",
       "        vertical-align: middle;\n",
       "    }\n",
       "\n",
       "    .dataframe tbody tr th {\n",
       "        vertical-align: top;\n",
       "    }\n",
       "\n",
       "    .dataframe thead th {\n",
       "        text-align: right;\n",
       "    }\n",
       "</style>\n",
       "<table border=\"1\" class=\"dataframe\">\n",
       "  <thead>\n",
       "    <tr style=\"text-align: right;\">\n",
       "      <th></th>\n",
       "      <th>hour</th>\n",
       "      <th>is_weekend</th>\n",
       "      <th>genre_en</th>\n",
       "      <th>idd_wh_service</th>\n",
       "      <th>sum_len_broadcast_h_calc</th>\n",
       "      <th>channel_name</th>\n",
       "      <th>movieId</th>\n",
       "      <th>dt_epg_start</th>\n",
       "      <th>cnt</th>\n",
       "      <th>channel_pref</th>\n",
       "    </tr>\n",
       "  </thead>\n",
       "  <tbody>\n",
       "    <tr>\n",
       "      <th>883824</th>\n",
       "      <td>18-23</td>\n",
       "      <td>Nē</td>\n",
       "      <td>Action</td>\n",
       "      <td>DTVS0223886</td>\n",
       "      <td>9.347500</td>\n",
       "      <td>3+</td>\n",
       "      <td>man of tai chi</td>\n",
       "      <td>2021-04-07</td>\n",
       "      <td>7691</td>\n",
       "      <td>45.086944</td>\n",
       "    </tr>\n",
       "    <tr>\n",
       "      <th>883825</th>\n",
       "      <td>18-23</td>\n",
       "      <td>Nē</td>\n",
       "      <td>Action</td>\n",
       "      <td>DTVS0223886</td>\n",
       "      <td>9.347500</td>\n",
       "      <td>3+</td>\n",
       "      <td>lung hing foo dai</td>\n",
       "      <td>2021-04-06</td>\n",
       "      <td>7691</td>\n",
       "      <td>45.086944</td>\n",
       "    </tr>\n",
       "    <tr>\n",
       "      <th>883826</th>\n",
       "      <td>12-18</td>\n",
       "      <td>Jā</td>\n",
       "      <td>Adventure</td>\n",
       "      <td>DTVS0223886</td>\n",
       "      <td>5.270833</td>\n",
       "      <td>3+</td>\n",
       "      <td>the darkest minds</td>\n",
       "      <td>2021-04-04</td>\n",
       "      <td>6574</td>\n",
       "      <td>45.086944</td>\n",
       "    </tr>\n",
       "    <tr>\n",
       "      <th>883827</th>\n",
       "      <td>12-18</td>\n",
       "      <td>Jā</td>\n",
       "      <td>Adventure</td>\n",
       "      <td>DTVS0223886</td>\n",
       "      <td>5.270833</td>\n",
       "      <td>3+</td>\n",
       "      <td>nim's island</td>\n",
       "      <td>2021-04-10</td>\n",
       "      <td>6574</td>\n",
       "      <td>45.086944</td>\n",
       "    </tr>\n",
       "    <tr>\n",
       "      <th>883828</th>\n",
       "      <td>12-18</td>\n",
       "      <td>Jā</td>\n",
       "      <td>Adventure</td>\n",
       "      <td>DTVS0223886</td>\n",
       "      <td>5.270833</td>\n",
       "      <td>3+</td>\n",
       "      <td>jack the giant slayer</td>\n",
       "      <td>2021-04-10</td>\n",
       "      <td>6574</td>\n",
       "      <td>45.086944</td>\n",
       "    </tr>\n",
       "    <tr>\n",
       "      <th>883829</th>\n",
       "      <td>12-18</td>\n",
       "      <td>Jā</td>\n",
       "      <td>Adventure</td>\n",
       "      <td>DTVS0223886</td>\n",
       "      <td>5.270833</td>\n",
       "      <td>3+</td>\n",
       "      <td>the cat in the hat</td>\n",
       "      <td>2021-04-04</td>\n",
       "      <td>6574</td>\n",
       "      <td>45.086944</td>\n",
       "    </tr>\n",
       "    <tr>\n",
       "      <th>883830</th>\n",
       "      <td>12-18</td>\n",
       "      <td>Jā</td>\n",
       "      <td>Adventure</td>\n",
       "      <td>DTVS0223886</td>\n",
       "      <td>5.270833</td>\n",
       "      <td>3+</td>\n",
       "      <td>storks</td>\n",
       "      <td>2021-04-10</td>\n",
       "      <td>6574</td>\n",
       "      <td>45.086944</td>\n",
       "    </tr>\n",
       "    <tr>\n",
       "      <th>883831</th>\n",
       "      <td>12-18</td>\n",
       "      <td>Jā</td>\n",
       "      <td>Adventure</td>\n",
       "      <td>DTVS0223886</td>\n",
       "      <td>5.270833</td>\n",
       "      <td>3+</td>\n",
       "      <td>x men apocalypse</td>\n",
       "      <td>2021-04-03</td>\n",
       "      <td>6574</td>\n",
       "      <td>45.086944</td>\n",
       "    </tr>\n",
       "    <tr>\n",
       "      <th>883832</th>\n",
       "      <td>12-18</td>\n",
       "      <td>Jā</td>\n",
       "      <td>Family</td>\n",
       "      <td>DTVS0223886</td>\n",
       "      <td>5.270833</td>\n",
       "      <td>3+</td>\n",
       "      <td>sing</td>\n",
       "      <td>2021-04-03</td>\n",
       "      <td>6574</td>\n",
       "      <td>45.086944</td>\n",
       "    </tr>\n",
       "    <tr>\n",
       "      <th>883833</th>\n",
       "      <td>18-23</td>\n",
       "      <td>Nē</td>\n",
       "      <td>Action</td>\n",
       "      <td>DTVS0223886</td>\n",
       "      <td>9.347500</td>\n",
       "      <td>TV3</td>\n",
       "      <td>lucy</td>\n",
       "      <td>2021-04-08</td>\n",
       "      <td>8588</td>\n",
       "      <td>37.328611</td>\n",
       "    </tr>\n",
       "  </tbody>\n",
       "</table>\n",
       "</div>"
      ],
      "text/plain": [
       "         hour is_weekend   genre_en idd_wh_service  sum_len_broadcast_h_calc  \\\n",
       "883824  18-23         Nē     Action    DTVS0223886                  9.347500   \n",
       "883825  18-23         Nē     Action    DTVS0223886                  9.347500   \n",
       "883826  12-18         Jā  Adventure    DTVS0223886                  5.270833   \n",
       "883827  12-18         Jā  Adventure    DTVS0223886                  5.270833   \n",
       "883828  12-18         Jā  Adventure    DTVS0223886                  5.270833   \n",
       "883829  12-18         Jā  Adventure    DTVS0223886                  5.270833   \n",
       "883830  12-18         Jā  Adventure    DTVS0223886                  5.270833   \n",
       "883831  12-18         Jā  Adventure    DTVS0223886                  5.270833   \n",
       "883832  12-18         Jā     Family    DTVS0223886                  5.270833   \n",
       "883833  18-23         Nē     Action    DTVS0223886                  9.347500   \n",
       "\n",
       "       channel_name                movieId dt_epg_start   cnt  channel_pref  \n",
       "883824           3+         man of tai chi   2021-04-07  7691     45.086944  \n",
       "883825           3+      lung hing foo dai   2021-04-06  7691     45.086944  \n",
       "883826           3+      the darkest minds   2021-04-04  6574     45.086944  \n",
       "883827           3+           nim's island   2021-04-10  6574     45.086944  \n",
       "883828           3+  jack the giant slayer   2021-04-10  6574     45.086944  \n",
       "883829           3+     the cat in the hat   2021-04-04  6574     45.086944  \n",
       "883830           3+                 storks   2021-04-10  6574     45.086944  \n",
       "883831           3+       x men apocalypse   2021-04-03  6574     45.086944  \n",
       "883832           3+                   sing   2021-04-03  6574     45.086944  \n",
       "883833          TV3                   lucy   2021-04-08  8588     37.328611  "
      ]
     },
     "execution_count": 20,
     "metadata": {},
     "output_type": "execute_result"
    }
   ],
   "source": [
    "pop_ieteikumi[pop_ieteikumi.idd_wh_service=='DTVS0223886']\n"
   ]
  },
  {
   "cell_type": "code",
   "execution_count": 21,
   "metadata": {
    "ExecuteTime": {
     "end_time": "2022-05-12T13:45:06.990875Z",
     "start_time": "2022-05-12T13:45:00.685483Z"
    }
   },
   "outputs": [],
   "source": [
    "movies_seen_test = pd.read_csv(r\"\\\\TELEKOM\\LTC_Faili\\LTC\\KD\\BAPD\\_Iekšējie dokumenti\\09_BigData\\Data_driven\\Projekti\\EPG_Rekomendācijas\\1. Dati\\Test\\movies_seen.csv\")\n",
    "\n",
    "movies_seen_test.rename(columns={\"movieid\":\"movieId\",\"userid\":\"idd_wh_service\"},inplace=True)\n",
    "movies_seen_test['seen']=1\n",
    "movies_seen_test['seen_live']=np.where(movies_seen_test['event_name']=='Tiešraide','live','archive')\n",
    "unit_cnt_seen=movies_seen_test.groupby(['idd_wh_service','seen_live'])['movieId'].count().reset_index().rename(columns={'movieId':'seen_cnt'})\n",
    "unit_cnt_seen=unit_cnt_seen.pivot_table(values='seen_cnt',index='idd_wh_service',columns='seen_live',aggfunc='sum',fill_value=0).reset_index()\n",
    "unit_cnt_seen['seen_tot']=unit_cnt_seen['archive']+unit_cnt_seen['live']"
   ]
  },
  {
   "cell_type": "code",
   "execution_count": 22,
   "metadata": {
    "ExecuteTime": {
     "end_time": "2022-05-12T13:45:09.238232Z",
     "start_time": "2022-05-12T13:45:06.992876Z"
    }
   },
   "outputs": [],
   "source": [
    "evaluate=pop_ieteikumi.merge(movies_seen_test, on=['idd_wh_service','movieId'], how='left')\n",
    "cnt_seen_from_rek=evaluate.groupby('idd_wh_service')['seen'].count().reset_index().rename(columns={'seen':'seen_from_rec'})\n",
    "cnt_seen_from_rek.fillna(0,inplace=True)\n",
    "evaluate_views=unit_cnt_seen.merge(cnt_seen_from_rek, on='idd_wh_service',how='left')"
   ]
  },
  {
   "cell_type": "code",
   "execution_count": 23,
   "metadata": {
    "ExecuteTime": {
     "end_time": "2022-05-12T13:45:09.269903Z",
     "start_time": "2022-05-12T13:45:09.240234Z"
    }
   },
   "outputs": [],
   "source": [
    "evaluate_views['PROC_SEEN_FROM_REC']=np.where(evaluate_views.seen_tot>10,evaluate_views.seen_from_rec/10,evaluate_views.seen_from_rec/evaluate_views.seen_tot)"
   ]
  },
  {
   "cell_type": "code",
   "execution_count": 24,
   "metadata": {
    "ExecuteTime": {
     "end_time": "2022-05-12T13:45:09.348276Z",
     "start_time": "2022-05-12T13:45:09.271903Z"
    }
   },
   "outputs": [
    {
     "name": "stdout",
     "output_type": "stream",
     "text": [
      "watched at least one movie in test period\n",
      "121185\n",
      "watched at least one recommended\n",
      "58454\n",
      "seen at least one movie in archive\n",
      "52288\n",
      "seen at least one movie in archive and watched at least one recommended\n",
      "30356\n",
      "seen 10+ movies\n",
      "18455\n",
      "seen 10+ movies and watched at least one recommended\n",
      "15014\n",
      "% from watched that were recommended - if watched at least one\n",
      "40\n",
      "% from watched that were recommended\n",
      "20\n",
      "seen 10+ movies % from watched that were recommended\n",
      "23\n",
      "recall @ k\n",
      "0         9\n",
      "1         8\n",
      "2         7\n",
      "3         6\n",
      "4         1\n",
      "         ..\n",
      "121180    2\n",
      "121181    2\n",
      "121182    1\n",
      "121183    3\n",
      "121184    3\n",
      "Name: seen_tot, Length: 121185, dtype: int64\n"
     ]
    }
   ],
   "source": [
    "print(\"watched at least one movie in test period\")\n",
    "print(evaluate_views.shape[0])\n",
    "print(\"watched at least one recommended\")\n",
    "print(evaluate_views[evaluate_views.seen_from_rec>0].shape[0])\n",
    "print(\"seen at least one movie in archive\")\n",
    "print(evaluate_views[evaluate_views['archive']>0].shape[0])\n",
    "print(\"seen at least one movie in archive and watched at least one recommended\")\n",
    "print(evaluate_views[(evaluate_views['archive']>0)&evaluate_views.seen_from_rec>0].shape[0])\n",
    "print(\"seen 10+ movies\")\n",
    "print(evaluate_views[(evaluate_views.seen_tot>=10)].shape[0])\n",
    "print(\"seen 10+ movies and watched at least one recommended\")\n",
    "print(evaluate_views[(evaluate_views.seen_from_rec>0)&(evaluate_views.seen_tot>=10)].shape[0])\n",
    "print(\"% from watched that were recommended - if watched at least one\")\n",
    "print(round(evaluate_views[evaluate_views.seen_from_rec>0].PROC_SEEN_FROM_REC.mean()*100))\n",
    "print(\"% from watched that were recommended\")\n",
    "print(round(evaluate_views.PROC_SEEN_FROM_REC.mean()*100))\n",
    "print(\"seen 10+ movies % from watched that were recommended\")\n",
    "print(round(evaluate_views[(evaluate_views.seen_tot>=10)].PROC_SEEN_FROM_REC.mean()*100))\n",
    "print(\"recall @ k\")\n",
    "print(evaluate_views.seen_tot)"
   ]
  },
  {
   "cell_type": "code",
   "execution_count": 25,
   "metadata": {
    "ExecuteTime": {
     "end_time": "2022-05-12T13:45:09.363282Z",
     "start_time": "2022-05-12T13:45:09.350279Z"
    }
   },
   "outputs": [
    {
     "data": {
      "text/plain": [
       "0         9\n",
       "1         8\n",
       "2         7\n",
       "3         6\n",
       "4         1\n",
       "         ..\n",
       "121180    2\n",
       "121181    2\n",
       "121182    1\n",
       "121183    3\n",
       "121184    3\n",
       "Name: seen_tot, Length: 121185, dtype: int64"
      ]
     },
     "execution_count": 25,
     "metadata": {},
     "output_type": "execute_result"
    }
   ],
   "source": [
    "evaluate_views.seen_tot"
   ]
  },
  {
   "cell_type": "code",
   "execution_count": 26,
   "metadata": {
    "ExecuteTime": {
     "end_time": "2022-05-12T13:45:09.378188Z",
     "start_time": "2022-05-12T13:45:09.365289Z"
    },
    "scrolled": true
   },
   "outputs": [],
   "source": [
    "evaluate_views['REC@K']=np.where(evaluate_views.seen_tot>10,evaluate_views.seen_from_rec/10,evaluate_views.seen_from_rec/evaluate_views.seen_tot)"
   ]
  },
  {
   "cell_type": "code",
   "execution_count": 27,
   "metadata": {
    "ExecuteTime": {
     "end_time": "2022-05-12T13:45:09.709285Z",
     "start_time": "2022-05-12T13:45:09.380193Z"
    }
   },
   "outputs": [
    {
     "data": {
      "text/html": [
       "<div>\n",
       "<style scoped>\n",
       "    .dataframe tbody tr th:only-of-type {\n",
       "        vertical-align: middle;\n",
       "    }\n",
       "\n",
       "    .dataframe tbody tr th {\n",
       "        vertical-align: top;\n",
       "    }\n",
       "\n",
       "    .dataframe thead th {\n",
       "        text-align: right;\n",
       "    }\n",
       "</style>\n",
       "<table border=\"1\" class=\"dataframe\">\n",
       "  <thead>\n",
       "    <tr style=\"text-align: right;\">\n",
       "      <th></th>\n",
       "      <th>hour</th>\n",
       "      <th>is_weekend</th>\n",
       "      <th>genre_en</th>\n",
       "      <th>idd_wh_service</th>\n",
       "      <th>sum_len_broadcast_h_calc</th>\n",
       "      <th>channel_name</th>\n",
       "      <th>movieId</th>\n",
       "      <th>dt_epg_start</th>\n",
       "      <th>cnt</th>\n",
       "      <th>channel_pref</th>\n",
       "      <th>event_name</th>\n",
       "      <th>seen</th>\n",
       "      <th>seen_live</th>\n",
       "    </tr>\n",
       "  </thead>\n",
       "  <tbody>\n",
       "    <tr>\n",
       "      <th>100</th>\n",
       "      <td>18-23</td>\n",
       "      <td>Jā</td>\n",
       "      <td>Drama</td>\n",
       "      <td>DTVS2004708</td>\n",
       "      <td>3.677500</td>\n",
       "      <td>TV3 Life</td>\n",
       "      <td>le week end</td>\n",
       "      <td>2021-04-03</td>\n",
       "      <td>6208</td>\n",
       "      <td>31.050278</td>\n",
       "      <td>NaN</td>\n",
       "      <td>NaN</td>\n",
       "      <td>NaN</td>\n",
       "    </tr>\n",
       "    <tr>\n",
       "      <th>101</th>\n",
       "      <td>18-23</td>\n",
       "      <td>Nē</td>\n",
       "      <td>Romance</td>\n",
       "      <td>DTVS2004708</td>\n",
       "      <td>4.836667</td>\n",
       "      <td>TV3 Life</td>\n",
       "      <td>home again</td>\n",
       "      <td>2021-04-05</td>\n",
       "      <td>14451</td>\n",
       "      <td>31.050278</td>\n",
       "      <td>Tiešraide</td>\n",
       "      <td>1.0</td>\n",
       "      <td>live</td>\n",
       "    </tr>\n",
       "    <tr>\n",
       "      <th>102</th>\n",
       "      <td>18-23</td>\n",
       "      <td>Nē</td>\n",
       "      <td>Romance</td>\n",
       "      <td>DTVS2004708</td>\n",
       "      <td>4.836667</td>\n",
       "      <td>TV3 Life</td>\n",
       "      <td>home again</td>\n",
       "      <td>2021-04-05</td>\n",
       "      <td>14451</td>\n",
       "      <td>31.050278</td>\n",
       "      <td>Arhīvs</td>\n",
       "      <td>1.0</td>\n",
       "      <td>archive</td>\n",
       "    </tr>\n",
       "    <tr>\n",
       "      <th>103</th>\n",
       "      <td>18-23</td>\n",
       "      <td>Nē</td>\n",
       "      <td>Romance</td>\n",
       "      <td>DTVS2004708</td>\n",
       "      <td>4.836667</td>\n",
       "      <td>TV3 Life</td>\n",
       "      <td>the sauce of love</td>\n",
       "      <td>2021-04-06</td>\n",
       "      <td>14451</td>\n",
       "      <td>31.050278</td>\n",
       "      <td>NaN</td>\n",
       "      <td>NaN</td>\n",
       "      <td>NaN</td>\n",
       "    </tr>\n",
       "    <tr>\n",
       "      <th>104</th>\n",
       "      <td>18-23</td>\n",
       "      <td>Nē</td>\n",
       "      <td>Romance</td>\n",
       "      <td>DTVS2004708</td>\n",
       "      <td>4.836667</td>\n",
       "      <td>TV3 Life</td>\n",
       "      <td>charie st cloud</td>\n",
       "      <td>2021-04-07</td>\n",
       "      <td>14451</td>\n",
       "      <td>31.050278</td>\n",
       "      <td>NaN</td>\n",
       "      <td>NaN</td>\n",
       "      <td>NaN</td>\n",
       "    </tr>\n",
       "    <tr>\n",
       "      <th>105</th>\n",
       "      <td>18-23</td>\n",
       "      <td>Jā</td>\n",
       "      <td>Other</td>\n",
       "      <td>DTVS2004708</td>\n",
       "      <td>5.997500</td>\n",
       "      <td>TV3 Life</td>\n",
       "      <td>return to montauk</td>\n",
       "      <td>2021-04-04</td>\n",
       "      <td>21377</td>\n",
       "      <td>31.050278</td>\n",
       "      <td>NaN</td>\n",
       "      <td>NaN</td>\n",
       "      <td>NaN</td>\n",
       "    </tr>\n",
       "    <tr>\n",
       "      <th>106</th>\n",
       "      <td>18-23</td>\n",
       "      <td>Jā</td>\n",
       "      <td>Other</td>\n",
       "      <td>DTVS2004708</td>\n",
       "      <td>5.997500</td>\n",
       "      <td>TV3 Life</td>\n",
       "      <td>die andere tochter</td>\n",
       "      <td>2021-04-10</td>\n",
       "      <td>21377</td>\n",
       "      <td>31.050278</td>\n",
       "      <td>Ieraksts</td>\n",
       "      <td>1.0</td>\n",
       "      <td>archive</td>\n",
       "    </tr>\n",
       "    <tr>\n",
       "      <th>107</th>\n",
       "      <td>18-23</td>\n",
       "      <td>Jā</td>\n",
       "      <td>Other</td>\n",
       "      <td>DTVS2004708</td>\n",
       "      <td>5.997500</td>\n",
       "      <td>TV3 Life</td>\n",
       "      <td>my boyfriend's dogs</td>\n",
       "      <td>2021-04-04</td>\n",
       "      <td>21377</td>\n",
       "      <td>31.050278</td>\n",
       "      <td>NaN</td>\n",
       "      <td>NaN</td>\n",
       "      <td>NaN</td>\n",
       "    </tr>\n",
       "    <tr>\n",
       "      <th>108</th>\n",
       "      <td>18-23</td>\n",
       "      <td>Jā</td>\n",
       "      <td>Romance</td>\n",
       "      <td>DTVS2004708</td>\n",
       "      <td>4.047500</td>\n",
       "      <td>TV3 Life</td>\n",
       "      <td>love to the rescue</td>\n",
       "      <td>2021-04-03</td>\n",
       "      <td>6208</td>\n",
       "      <td>31.050278</td>\n",
       "      <td>NaN</td>\n",
       "      <td>NaN</td>\n",
       "      <td>NaN</td>\n",
       "    </tr>\n",
       "    <tr>\n",
       "      <th>109</th>\n",
       "      <td>12-18</td>\n",
       "      <td>Jā</td>\n",
       "      <td>Comedy</td>\n",
       "      <td>DTVS2004708</td>\n",
       "      <td>5.743611</td>\n",
       "      <td>STV Pirmā!</td>\n",
       "      <td>uzvari zaude mili</td>\n",
       "      <td>2021-04-04</td>\n",
       "      <td>4238</td>\n",
       "      <td>17.043056</td>\n",
       "      <td>NaN</td>\n",
       "      <td>NaN</td>\n",
       "      <td>NaN</td>\n",
       "    </tr>\n",
       "    <tr>\n",
       "      <th>110</th>\n",
       "      <td>18-23</td>\n",
       "      <td>Nē</td>\n",
       "      <td>Romance</td>\n",
       "      <td>DTVS2004708</td>\n",
       "      <td>4.836667</td>\n",
       "      <td>STV Pirmā!</td>\n",
       "      <td>nokert milestibu</td>\n",
       "      <td>2021-04-07</td>\n",
       "      <td>3749</td>\n",
       "      <td>17.043056</td>\n",
       "      <td>Arhīvs</td>\n",
       "      <td>1.0</td>\n",
       "      <td>archive</td>\n",
       "    </tr>\n",
       "  </tbody>\n",
       "</table>\n",
       "</div>"
      ],
      "text/plain": [
       "      hour is_weekend genre_en idd_wh_service  sum_len_broadcast_h_calc  \\\n",
       "100  18-23         Jā    Drama    DTVS2004708                  3.677500   \n",
       "101  18-23         Nē  Romance    DTVS2004708                  4.836667   \n",
       "102  18-23         Nē  Romance    DTVS2004708                  4.836667   \n",
       "103  18-23         Nē  Romance    DTVS2004708                  4.836667   \n",
       "104  18-23         Nē  Romance    DTVS2004708                  4.836667   \n",
       "105  18-23         Jā    Other    DTVS2004708                  5.997500   \n",
       "106  18-23         Jā    Other    DTVS2004708                  5.997500   \n",
       "107  18-23         Jā    Other    DTVS2004708                  5.997500   \n",
       "108  18-23         Jā  Romance    DTVS2004708                  4.047500   \n",
       "109  12-18         Jā   Comedy    DTVS2004708                  5.743611   \n",
       "110  18-23         Nē  Romance    DTVS2004708                  4.836667   \n",
       "\n",
       "    channel_name              movieId dt_epg_start    cnt  channel_pref  \\\n",
       "100     TV3 Life          le week end   2021-04-03   6208     31.050278   \n",
       "101     TV3 Life           home again   2021-04-05  14451     31.050278   \n",
       "102     TV3 Life           home again   2021-04-05  14451     31.050278   \n",
       "103     TV3 Life    the sauce of love   2021-04-06  14451     31.050278   \n",
       "104     TV3 Life      charie st cloud   2021-04-07  14451     31.050278   \n",
       "105     TV3 Life    return to montauk   2021-04-04  21377     31.050278   \n",
       "106     TV3 Life   die andere tochter   2021-04-10  21377     31.050278   \n",
       "107     TV3 Life  my boyfriend's dogs   2021-04-04  21377     31.050278   \n",
       "108     TV3 Life   love to the rescue   2021-04-03   6208     31.050278   \n",
       "109   STV Pirmā!    uzvari zaude mili   2021-04-04   4238     17.043056   \n",
       "110   STV Pirmā!     nokert milestibu   2021-04-07   3749     17.043056   \n",
       "\n",
       "    event_name  seen seen_live  \n",
       "100        NaN   NaN       NaN  \n",
       "101  Tiešraide   1.0      live  \n",
       "102     Arhīvs   1.0   archive  \n",
       "103        NaN   NaN       NaN  \n",
       "104        NaN   NaN       NaN  \n",
       "105        NaN   NaN       NaN  \n",
       "106   Ieraksts   1.0   archive  \n",
       "107        NaN   NaN       NaN  \n",
       "108        NaN   NaN       NaN  \n",
       "109        NaN   NaN       NaN  \n",
       "110     Arhīvs   1.0   archive  "
      ]
     },
     "execution_count": 27,
     "metadata": {},
     "output_type": "execute_result"
    }
   ],
   "source": [
    "evaluate[evaluate.idd_wh_service=='DTVS2004708']"
   ]
  },
  {
   "cell_type": "markdown",
   "metadata": {},
   "source": [
    "# Ieteikumu pārbaude top 10 saturam pagājušajā ned."
   ]
  },
  {
   "cell_type": "code",
   "execution_count": 28,
   "metadata": {
    "ExecuteTime": {
     "end_time": "2022-05-12T13:45:10.041374Z",
     "start_time": "2022-05-12T13:45:09.712279Z"
    }
   },
   "outputs": [
    {
     "name": "stderr",
     "output_type": "stream",
     "text": [
      "C:\\Aplikacijas\\Anaconda3\\lib\\site-packages\\ipykernel_launcher.py:2: SettingWithCopyWarning: \n",
      "A value is trying to be set on a copy of a slice from a DataFrame.\n",
      "Try using .loc[row_indexer,col_indexer] = value instead\n",
      "\n",
      "See the caveats in the documentation: https://pandas.pydata.org/pandas-docs/stable/user_guide/indexing.html#returning-a-view-versus-a-copy\n",
      "  \n"
     ]
    }
   ],
   "source": [
    "users=unit_cnt_seen[['idd_wh_service']]\n",
    "users['key'] = 0\n",
    "df2['key'] = 0\n",
    "df3=users.merge(df2, how=\"inner\", on='key')[['idd_wh_service','movieId']]"
   ]
  },
  {
   "cell_type": "code",
   "execution_count": 29,
   "metadata": {
    "ExecuteTime": {
     "end_time": "2022-05-12T13:45:11.800810Z",
     "start_time": "2022-05-12T13:45:10.043362Z"
    }
   },
   "outputs": [],
   "source": [
    "evaluate=df3.merge(movies_seen_test, on=['idd_wh_service','movieId'], how='left')\n",
    "cnt_seen_from_rek=evaluate.groupby('idd_wh_service')['seen'].count().reset_index().rename(columns={'seen':'seen_from_rec'})\n",
    "cnt_seen_from_rek.fillna(0,inplace=True)\n",
    "evaluate_views=unit_cnt_seen.merge(cnt_seen_from_rek, on='idd_wh_service',how='left')"
   ]
  },
  {
   "cell_type": "code",
   "execution_count": 30,
   "metadata": {
    "ExecuteTime": {
     "end_time": "2022-05-12T13:45:11.816836Z",
     "start_time": "2022-05-12T13:45:11.803791Z"
    }
   },
   "outputs": [],
   "source": [
    "evaluate_views['PROC_SEEN_FROM_REC']=np.where(evaluate_views.seen_tot>10,evaluate_views.seen_from_rec/10,evaluate_views.seen_from_rec/evaluate_views.seen_tot)"
   ]
  },
  {
   "cell_type": "code",
   "execution_count": 31,
   "metadata": {
    "ExecuteTime": {
     "end_time": "2022-05-12T13:45:11.863864Z",
     "start_time": "2022-05-12T13:45:11.819839Z"
    }
   },
   "outputs": [
    {
     "name": "stdout",
     "output_type": "stream",
     "text": [
      "watched at least one movie in test period\n",
      "121185\n",
      "watched at least one recommended\n",
      "15367\n",
      "seen at least one movie in archive\n",
      "52288\n",
      "seen at least one movie in archive and watched at least one recommended\n",
      "8022\n",
      "seen 10+ movies\n",
      "18455\n",
      "seen 10+ movies and watched at least one recommended\n",
      "4970\n",
      "% from watched that were recommended - if watched at least one\n",
      "27\n",
      "% from watched that were recommended\n",
      "3\n",
      "seen 10+ movies % from watched that were recommended\n",
      "3\n"
     ]
    }
   ],
   "source": [
    "print(\"watched at least one movie in test period\")\n",
    "print(evaluate_views.shape[0])\n",
    "print(\"watched at least one recommended\")\n",
    "print(evaluate_views[evaluate_views.seen_from_rec>0].shape[0])\n",
    "print(\"seen at least one movie in archive\")\n",
    "print(evaluate_views[evaluate_views['archive']>0].shape[0])\n",
    "print(\"seen at least one movie in archive and watched at least one recommended\")\n",
    "print(evaluate_views[(evaluate_views['archive']>0)&evaluate_views.seen_from_rec>0].shape[0])\n",
    "print(\"seen 10+ movies\")\n",
    "print(evaluate_views[(evaluate_views.seen_tot>=10)].shape[0])\n",
    "print(\"seen 10+ movies and watched at least one recommended\")\n",
    "print(evaluate_views[(evaluate_views.seen_from_rec>0)&(evaluate_views.seen_tot>=10)].shape[0])\n",
    "print(\"% from watched that were recommended - if watched at least one\")\n",
    "print(round(evaluate_views[evaluate_views.seen_from_rec>0].PROC_SEEN_FROM_REC.mean()*100))\n",
    "print(\"% from watched that were recommended\")\n",
    "print(round(evaluate_views.PROC_SEEN_FROM_REC.mean()*100))\n",
    "print(\"seen 10+ movies % from watched that were recommended\")\n",
    "print(round(evaluate_views[(evaluate_views.seen_tot>=10)].PROC_SEEN_FROM_REC.mean()*100))"
   ]
  },
  {
   "cell_type": "code",
   "execution_count": null,
   "metadata": {},
   "outputs": [],
   "source": []
  }
 ],
 "metadata": {
  "kernelspec": {
   "display_name": "Python 3",
   "language": "python",
   "name": "python3"
  },
  "language_info": {
   "codemirror_mode": {
    "name": "ipython",
    "version": 3
   },
   "file_extension": ".py",
   "mimetype": "text/x-python",
   "name": "python",
   "nbconvert_exporter": "python",
   "pygments_lexer": "ipython3",
   "version": "3.6.5"
  },
  "latex_envs": {
   "LaTeX_envs_menu_present": true,
   "autoclose": false,
   "autocomplete": true,
   "bibliofile": "biblio.bib",
   "cite_by": "apalike",
   "current_citInitial": 1,
   "eqLabelWithNumbers": true,
   "eqNumInitial": 1,
   "hotkeys": {
    "equation": "Ctrl-E",
    "itemize": "Ctrl-I"
   },
   "labels_anchors": false,
   "latex_user_defs": false,
   "report_style_numbering": false,
   "user_envs_cfg": false
  },
  "toc": {
   "base_numbering": 1,
   "nav_menu": {},
   "number_sections": true,
   "sideBar": true,
   "skip_h1_title": false,
   "title_cell": "Table of Contents",
   "title_sidebar": "Contents",
   "toc_cell": false,
   "toc_position": {},
   "toc_section_display": true,
   "toc_window_display": false
  }
 },
 "nbformat": 4,
 "nbformat_minor": 2
}
