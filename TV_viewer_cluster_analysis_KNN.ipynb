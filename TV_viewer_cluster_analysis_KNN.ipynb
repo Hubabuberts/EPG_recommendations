{
 "cells": [
  {
   "cell_type": "markdown",
   "metadata": {},
   "source": [
    "# Libraries"
   ]
  },
  {
   "cell_type": "code",
   "execution_count": 1,
   "metadata": {
    "ExecuteTime": {
     "end_time": "2022-05-19T17:00:58.081765Z",
     "start_time": "2022-05-19T17:00:56.118917Z"
    }
   },
   "outputs": [],
   "source": [
    "import pandas as pd\n",
    "import matplotlib.pyplot as plt\n",
    "pd.set_option('display.max_colwidth', 255)\n",
    "pd.options.display.max_rows = 999\n",
    "pd.options.display.max_columns = 999\n",
    "pd.set_option('use_inf_as_na', True)\n",
    "from yellowbrick.cluster import KElbowVisualizer\n",
    "from sklearn.cluster import KMeans\n",
    "pd.options.display.max_seq_items = 3000"
   ]
  },
  {
   "cell_type": "markdown",
   "metadata": {},
   "source": [
    "# Datu ielāde un kopu izveide"
   ]
  },
  {
   "cell_type": "markdown",
   "metadata": {
    "ExecuteTime": {
     "end_time": "2022-02-05T17:58:09.342698Z",
     "start_time": "2022-02-05T17:58:09.330166Z"
    }
   },
   "source": [
    "## Datu ielāde\n",
    "Label definīcija - cenas izmaiņas vai ilgu laiku bijusi standartcena"
   ]
  },
  {
   "cell_type": "code",
   "execution_count": 9,
   "metadata": {
    "ExecuteTime": {
     "end_time": "2022-05-19T17:04:10.321124Z",
     "start_time": "2022-05-19T17:04:09.689786Z"
    },
    "code_folding": [
     2
    ],
    "scrolled": true
   },
   "outputs": [],
   "source": [
    "#datu ielāde\n",
    "df_valodas=pd.read_csv(r'\\Dati_mag_darbam\\Valodas_2020.csv')"
   ]
  },
  {
   "cell_type": "code",
   "execution_count": 10,
   "metadata": {
    "ExecuteTime": {
     "end_time": "2022-05-19T17:04:10.337132Z",
     "start_time": "2022-05-19T17:04:10.323129Z"
    }
   },
   "outputs": [
    {
     "data": {
      "text/html": [
       "<div>\n",
       "<style scoped>\n",
       "    .dataframe tbody tr th:only-of-type {\n",
       "        vertical-align: middle;\n",
       "    }\n",
       "\n",
       "    .dataframe tbody tr th {\n",
       "        vertical-align: top;\n",
       "    }\n",
       "\n",
       "    .dataframe thead th {\n",
       "        text-align: right;\n",
       "    }\n",
       "</style>\n",
       "<table border=\"1\" class=\"dataframe\">\n",
       "  <thead>\n",
       "    <tr style=\"text-align: right;\">\n",
       "      <th></th>\n",
       "      <th>idd_wh_service</th>\n",
       "      <th>en</th>\n",
       "      <th>lv</th>\n",
       "      <th>ru</th>\n",
       "    </tr>\n",
       "  </thead>\n",
       "  <tbody>\n",
       "    <tr>\n",
       "      <th>0</th>\n",
       "      <td>DTVS0000019</td>\n",
       "      <td>0.008532</td>\n",
       "      <td>0.980024</td>\n",
       "      <td>0.011445</td>\n",
       "    </tr>\n",
       "    <tr>\n",
       "      <th>1</th>\n",
       "      <td>DTVS0000032</td>\n",
       "      <td>0.080132</td>\n",
       "      <td>0.009511</td>\n",
       "      <td>0.910357</td>\n",
       "    </tr>\n",
       "    <tr>\n",
       "      <th>2</th>\n",
       "      <td>DTVS0000052</td>\n",
       "      <td>0.000049</td>\n",
       "      <td>0.913947</td>\n",
       "      <td>0.086004</td>\n",
       "    </tr>\n",
       "    <tr>\n",
       "      <th>3</th>\n",
       "      <td>DTVS0000055</td>\n",
       "      <td>0.127766</td>\n",
       "      <td>0.737593</td>\n",
       "      <td>0.134641</td>\n",
       "    </tr>\n",
       "    <tr>\n",
       "      <th>4</th>\n",
       "      <td>DTVS0000059</td>\n",
       "      <td>0.090698</td>\n",
       "      <td>0.012768</td>\n",
       "      <td>0.896534</td>\n",
       "    </tr>\n",
       "  </tbody>\n",
       "</table>\n",
       "</div>"
      ],
      "text/plain": [
       "  idd_wh_service        en        lv        ru\n",
       "0    DTVS0000019  0.008532  0.980024  0.011445\n",
       "1    DTVS0000032  0.080132  0.009511  0.910357\n",
       "2    DTVS0000052  0.000049  0.913947  0.086004\n",
       "3    DTVS0000055  0.127766  0.737593  0.134641\n",
       "4    DTVS0000059  0.090698  0.012768  0.896534"
      ]
     },
     "execution_count": 10,
     "metadata": {},
     "output_type": "execute_result"
    }
   ],
   "source": [
    "#datu piemērs\n",
    "df_valodas.head()"
   ]
  },
  {
   "cell_type": "markdown",
   "metadata": {
    "ExecuteTime": {
     "end_time": "2022-05-02T08:22:09.527552Z",
     "start_time": "2022-05-02T08:22:09.519549Z"
    }
   },
   "source": [
    "## K means"
   ]
  },
  {
   "cell_type": "code",
   "execution_count": 3,
   "metadata": {
    "ExecuteTime": {
     "end_time": "2022-05-19T17:02:20.553594Z",
     "start_time": "2022-05-19T17:00:59.920636Z"
    }
   },
   "outputs": [
    {
     "data": {
      "image/png": "[encoded data removed]",
      "text/plain": [
       "<Figure size 720x360 with 1 Axes>"
      ]
     },
     "metadata": {},
     "output_type": "display_data"
    },
    {
     "data": {
      "text/plain": [
       "<matplotlib.axes._subplots.AxesSubplot at 0x1c48c150668>"
      ]
     },
     "execution_count": 3,
     "metadata": {},
     "output_type": "execute_result"
    }
   ],
   "source": [
    "#klasteru skaitu matemātiski nosaka ar t.s. elkoņa metodi, resp, tur, kur grafikam visasākais\n",
    "#locījums jeb straujākā kļūdas funkcijas vērtības samazināšanās (KNN jo vairāk klasteru, jo mazāka kļūda)\n",
    "model = KMeans()\n",
    "\n",
    "f = plt.figure(figsize=(10, 5))\n",
    "visualizer = KElbowVisualizer(model, k=(2,13), timings = False)\n",
    "visualizer.fit(df_valodas.drop(columns=('idd_wh_service')))    \n",
    "visualizer.show()"
   ]
  },
  {
   "cell_type": "code",
   "execution_count": 4,
   "metadata": {
    "ExecuteTime": {
     "end_time": "2022-05-19T17:02:24.376972Z",
     "start_time": "2022-05-19T17:02:20.555876Z"
    }
   },
   "outputs": [
    {
     "data": {
      "text/plain": [
       "3    59798\n",
       "0    39907\n",
       "1    33591\n",
       "4    26031\n",
       "2    12061\n",
       "Name: cluster, dtype: int64"
      ]
     },
     "execution_count": 4,
     "metadata": {},
     "output_type": "execute_result"
    },
    {
     "data": {
      "image/png": "[encoded data removed]",
      "text/plain": [
       "<Figure size 360x360 with 1 Axes>"
      ]
     },
     "metadata": {},
     "output_type": "display_data"
    }
   ],
   "source": [
    "#atbilstošākais klasteru skaits = 5, nosakām, kuram klasterim pieder katrs lietotājs\n",
    "n_clusters = 5\n",
    "\n",
    "means_cluster = KMeans(n_clusters=n_clusters, random_state=111)\n",
    "columns = list(df_valodas.drop(columns=('idd_wh_service')).columns)\n",
    "est = means_cluster.fit(df_valodas[columns])\n",
    "clusters = est.labels_\n",
    "df_valodas['cluster'] = clusters\n",
    "plot = df_valodas['cluster'].value_counts().to_frame().plot.pie(y='cluster', figsize=(5, 5))\n",
    "df_valodas['cluster'].value_counts()"
   ]
  },
  {
   "cell_type": "code",
   "execution_count": 6,
   "metadata": {
    "ExecuteTime": {
     "end_time": "2022-05-19T17:03:00.377243Z",
     "start_time": "2022-05-19T17:03:00.303220Z"
    }
   },
   "outputs": [
    {
     "data": {
      "text/html": [
       "<div>\n",
       "<style scoped>\n",
       "    .dataframe tbody tr th:only-of-type {\n",
       "        vertical-align: middle;\n",
       "    }\n",
       "\n",
       "    .dataframe tbody tr th {\n",
       "        vertical-align: top;\n",
       "    }\n",
       "\n",
       "    .dataframe thead th {\n",
       "        text-align: right;\n",
       "    }\n",
       "</style>\n",
       "<table border=\"1\" class=\"dataframe\">\n",
       "  <thead>\n",
       "    <tr style=\"text-align: right;\">\n",
       "      <th></th>\n",
       "      <th>en</th>\n",
       "      <th>lv</th>\n",
       "      <th>ru</th>\n",
       "    </tr>\n",
       "    <tr>\n",
       "      <th>cluster</th>\n",
       "      <th></th>\n",
       "      <th></th>\n",
       "      <th></th>\n",
       "    </tr>\n",
       "  </thead>\n",
       "  <tbody>\n",
       "    <tr>\n",
       "      <th>0</th>\n",
       "      <td>0.13</td>\n",
       "      <td>0.67</td>\n",
       "      <td>0.20</td>\n",
       "    </tr>\n",
       "    <tr>\n",
       "      <th>1</th>\n",
       "      <td>0.07</td>\n",
       "      <td>0.06</td>\n",
       "      <td>0.87</td>\n",
       "    </tr>\n",
       "    <tr>\n",
       "      <th>2</th>\n",
       "      <td>0.58</td>\n",
       "      <td>0.22</td>\n",
       "      <td>0.20</td>\n",
       "    </tr>\n",
       "    <tr>\n",
       "      <th>3</th>\n",
       "      <td>0.04</td>\n",
       "      <td>0.92</td>\n",
       "      <td>0.04</td>\n",
       "    </tr>\n",
       "    <tr>\n",
       "      <th>4</th>\n",
       "      <td>0.09</td>\n",
       "      <td>0.40</td>\n",
       "      <td>0.51</td>\n",
       "    </tr>\n",
       "  </tbody>\n",
       "</table>\n",
       "</div>"
      ],
      "text/plain": [
       "           en    lv    ru\n",
       "cluster                  \n",
       "0        0.13  0.67  0.20\n",
       "1        0.07  0.06  0.87\n",
       "2        0.58  0.22  0.20\n",
       "3        0.04  0.92  0.04\n",
       "4        0.09  0.40  0.51"
      ]
     },
     "execution_count": 6,
     "metadata": {},
     "output_type": "execute_result"
    }
   ],
   "source": [
    "# izdrukājam vidējās vērtības\n",
    "round(df_valodas.groupby('cluster').mean(),2)"
   ]
  },
  {
   "cell_type": "code",
   "execution_count": null,
   "metadata": {},
   "outputs": [],
   "source": []
  }
 ],
 "metadata": {
  "kernelspec": {
   "display_name": "Python 3",
   "language": "python",
   "name": "python3"
  },
  "language_info": {
   "codemirror_mode": {
    "name": "ipython",
    "version": 3
   },
   "file_extension": ".py",
   "mimetype": "text/x-python",
   "name": "python",
   "nbconvert_exporter": "python",
   "pygments_lexer": "ipython3",
   "version": "3.6.5"
  },
  "latex_envs": {
   "LaTeX_envs_menu_present": true,
   "autoclose": false,
   "autocomplete": true,
   "bibliofile": "biblio.bib",
   "cite_by": "apalike",
   "current_citInitial": 1,
   "eqLabelWithNumbers": true,
   "eqNumInitial": 1,
   "hotkeys": {
    "equation": "Ctrl-E",
    "itemize": "Ctrl-I"
   },
   "labels_anchors": false,
   "latex_user_defs": false,
   "report_style_numbering": false,
   "user_envs_cfg": false
  },
  "toc": {
   "base_numbering": 1,
   "nav_menu": {},
   "number_sections": true,
   "sideBar": true,
   "skip_h1_title": false,
   "title_cell": "Table of Contents",
   "title_sidebar": "Contents",
   "toc_cell": false,
   "toc_position": {
    "height": "calc(100% - 180px)",
    "left": "10px",
    "top": "150px",
    "width": "349px"
   },
   "toc_section_display": true,
   "toc_window_display": true
  },
  "varInspector": {
   "cols": {
    "lenName": 16,
    "lenType": 16,
    "lenVar": 40
   },
   "kernels_config": {
    "python": {
     "delete_cmd_postfix": "",
     "delete_cmd_prefix": "del ",
     "library": "var_list.py",
     "varRefreshCmd": "print(var_dic_list())"
    },
    "r": {
     "delete_cmd_postfix": ") ",
     "delete_cmd_prefix": "rm(",
     "library": "var_list.r",
     "varRefreshCmd": "cat(var_dic_list()) "
    }
   },
   "types_to_exclude": [
    "module",
    "function",
    "builtin_function_or_method",
    "instance",
    "_Feature"
   ],
   "window_display": false
  }
 },
 "nbformat": 4,
 "nbformat_minor": 5
}
